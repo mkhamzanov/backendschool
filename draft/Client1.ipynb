{
 "cells": [
  {
   "cell_type": "code",
   "execution_count": 25,
   "metadata": {},
   "outputs": [
    {
     "name": "stdout",
     "output_type": "stream",
     "text": [
      "main\n",
      "Hello, World!\n",
      "200 OK {\"data\": [{\"citizen_id\": 1, \"town\": \"Москва\", \"street\": \"Льва Толстого\", \"building\": \"jhg\", \"apartment\": 12, \"name\": \"Иванов Иван Иванович\", \"birth_date\": \"26.12.1986\", \"gender\": \"male\", \"relatives\": [2, 3]}, {\"citizen_id\": 2, \"town\": \"Москва\", \"street\": \"Льва Толстого\", \"building\": \"16к7стр5\", \"apartment\": 2, \"name\": \"s\", \"birth_date\": \"26.12.1986\", \"gender\": \"male\", \"relatives\": [4, 8, 1]}, {\"citizen_id\": 3, \"town\": \"Москва\", \"street\": \"Льва Толстого\", \"building\": \"16к7стр5\", \"apartment\": 2, \"name\": \"s\", \"birth_date\": \"26.12.1986\", \"gender\": \"male\", \"relatives\": [1]}]}\n",
      "201 CREATED {\"data\": {\"import_id\": 39}}\n",
      "200 OK\n",
      "201 CREATED {\"data\": {\"import_id\": 40}}\n",
      "201 CREATED {\"data\": {\"import_id\": 41}}\n"
     ]
    }
   ],
   "source": [
    "import requests\n",
    "import simplejson\n",
    "import tqdm\n",
    "from flask import Flask, jsonify\n",
    "from flask import abort\n",
    "from flask import json\n",
    "from flask import request\n",
    "import json\n",
    "from tqdm import tqdm\n",
    "\n",
    "\n",
    "main_url = \"http://127.0.0.1:5000\"\n",
    "r = requests.get(main_url)\n",
    "print('main')\n",
    "print(r.text)\n",
    "\n",
    "data = {\n",
    "\"citizens\": [\n",
    "{\n",
    "\"citizen_id\": 1,\n",
    "\"town\": \"Москва\",\n",
    "\"street\": \"Льва Толстого\",\n",
    "\"building\": \"16к7стр5\",\n",
    "\"apartment\": 7,\n",
    "\"name\": \"Иванов Иван Иванович\",\n",
    "\"birth_date\": \"26.12.1986\",\n",
    "\"gender\": \"male\",\n",
    "\"relatives\": [2]\n",
    "},\n",
    "{\n",
    "\"citizen_id\": 2,\n",
    "\"town\": \"Москва\",\n",
    "\"street\": \"Льва Толстого\",\n",
    "\"building\": \"16к7стр5\",\n",
    "\"apartment\": 7,\n",
    "\"name\": \"Иванов Сергей Иванович\",\n",
    "\"birth_date\": \"17.04.1997\",\n",
    "\"gender\": \"male\",\n",
    "\"relatives\": [1,3]\n",
    "},\n",
    "{\n",
    "\"citizen_id\": 3,\n",
    "\"town\": \"Керчь\",\n",
    "\"street\": \"Иосифа Бродского\",\n",
    "\"building\": \"2\",\n",
    "\"apartment\": 11,\n",
    "\"name\": \"Романова Мария Леонидовна\",\n",
    "\"birth_date\": \"23.11.1986\",\n",
    "\"gender\": \"female\",\n",
    "\"relatives\": [2]\n",
    "},\n",
    "{\n",
    "\"citizen_id\": 5,\n",
    "\"town\": \"Керчь\",\n",
    "\"street\": \"Иосифа Бродского\",\n",
    "\"building\": \"2\",\n",
    "\"apartment\": 11,\n",
    "\"name\": \"Романова Мария Леонидовна\",\n",
    "\"birth_date\": \"23.11.1986\",\n",
    "\"gender\": \"female\",\n",
    "\"relatives\": []\n",
    "}\n",
    "]}\n",
    "\n",
    "\n",
    "\n",
    "url = \"http://127.0.0.1:5000/imports/1/citizens\"\n",
    "r = requests.get(url)\n",
    "print(r.status_code, r.reason,r.text)\n",
    "\n",
    "\n",
    "data_not_valid = {\n",
    "\"citizens\": [\n",
    "{\n",
    "\"citizen_id\": 1,\n",
    "\"town\": \"Москва\",\n",
    "\"street\": \"Льва Толстого\",\n",
    "\"building\": \"jhg\",\n",
    "\"apartment\": 12,\n",
    "\"name\": \"Иванов Иван Иванович\",\n",
    "\"birth_date\": \"26.12.1986\",\n",
    "\"gender\": \"male\",\n",
    "\"relatives\": [2,3]\n",
    "},\n",
    "{\n",
    "\"citizen_id\": 2,\n",
    "\"town\": \"Москва\",\n",
    "\"street\": \"Льва Толстого\",\n",
    "\"building\": \"16к7стр5\",\n",
    "\"apartment\": 2,\n",
    "\"name\": \"s\",\n",
    "\"birth_date\": \"26.12.1986\",\n",
    "\"gender\": \"male\",\n",
    "\"relatives\": [4,8,1]\n",
    "},\n",
    "{\n",
    "\"citizen_id\": 3,\n",
    "\"town\": \"Москва\",\n",
    "\"street\": \"Льва Толстого\",\n",
    "\"building\": \"16к7стр5\",\n",
    "\"apartment\": 2,\n",
    "\"name\": \"s\",\n",
    "\"birth_date\": \"26.12.1986\",\n",
    "\"gender\": \"male\",\n",
    "\"relatives\": [1]\n",
    "}\n",
    "]}\n",
    "\n",
    "\n",
    "\n",
    "api_url = 'http://127.0.0.1:5000/imports'\n",
    "r = requests.post(url=api_url, json=data_not_valid)\n",
    "print(r.status_code, r.reason,r.text)\n",
    "\n",
    "\n",
    "\n",
    "test_patch = {'apartment': 111,\n",
    " 'birth_date': '26.11.1986',\n",
    " 'building': '16к7стр5',\n",
    " 'gender': 'male',\n",
    " 'name': 'Иванов Иван Иванович',\n",
    " 'relatives': [2,3,4,5],\n",
    " 'street': 'Льва Толстого',\n",
    " 'town': 'saddsd'}\n",
    "\n",
    "api_url = 'http://127.0.0.1:5000/imports/15/citizens/1'\n",
    "r = requests.patch(url=api_url, json=test_patch)\n",
    "print(r.status_code, r.reason)\n",
    "\n",
    "\n",
    "data_for_birthday = {\n",
    "\"citizens\": [{'apartment': 111,\n",
    "  'birth_date': '26.02.1986',\n",
    "  'building': '16к7стр5',\n",
    "  'citizen_id': 1,\n",
    "  'gender': 'male',\n",
    "  'name': 'Иванов Иван Иванович',\n",
    "  'relatives': [2],\n",
    "  'street': 'Льва Толстого',\n",
    "  'town': 'saddsd'},\n",
    " {'apartment': 111,\n",
    "  'birth_date': '26.07.1986',\n",
    "  'building': '16к7стр5',\n",
    "  'citizen_id': 2,\n",
    "  'gender': 'male',\n",
    "  'name': 'Иванов Иван Иванович',\n",
    "  'relatives': [1,3,4],\n",
    "  'street': 'Льва Толстого',\n",
    "  'town': 'saddsd'},\n",
    "        \n",
    " {'apartment': 111,\n",
    "  'birth_date': '26.02.1986',\n",
    "  'building': '16к7стр5',\n",
    "  'citizen_id': 3,\n",
    "  'gender': 'male',\n",
    "  'name': 'Иванов Иван Иванович',\n",
    "  'relatives': [2],\n",
    "  'street': 'Льва Толстого',\n",
    "  'town': 'saddsd'},\n",
    "        \n",
    " {'apartment': 111,\n",
    "  'birth_date': '26.02.1986',\n",
    "  'building': '16к7стр5',\n",
    "  'citizen_id': 4,\n",
    "  'gender': 'male',\n",
    "  'name': 'Иванов Иван Иванович',\n",
    "  'relatives': [2,55],\n",
    "  'street': 'Льва Толстого',\n",
    "  'town': 'saddsd'}        \n",
    "        \n",
    "       ]}\n",
    "\n",
    "api_url = 'http://127.0.0.1:5000/imports'\n",
    "r = requests.post(url=api_url, json=data_for_birthday)\n",
    "print(r.status_code, r.reason,r.text)\n",
    "\n",
    "\n",
    "data_for_percentiles = {\n",
    "\"citizens\": [{'apartment': 111,\n",
    "  'birth_date': '26.01.1956',\n",
    "  'building': '16к7стр5',\n",
    "  'citizen_id': 1,\n",
    "  'gender': 'male',\n",
    "  'name': 'Иванов Иван Иванович',\n",
    "  'relatives': [2],\n",
    "  'street': 'Льва Толстого',\n",
    "  'town': 'qweqeqweqwe'},\n",
    " {'apartment': 111,\n",
    "  'birth_date': '26.07.1986',\n",
    "  'building': '16к7стр5',\n",
    "  'citizen_id': 2,\n",
    "  'gender': 'male',\n",
    "  'name': 'Иванов Иван Иванович',\n",
    "  'relatives': [1,3,4],\n",
    "  'street': 'Льва Толстого',\n",
    "  'town': 'qweqeqweqwe'},\n",
    "        \n",
    " {'apartment': 111,\n",
    "  'birth_date': '26.02.1986',\n",
    "  'building': '16к7стр5',\n",
    "  'citizen_id': 3,\n",
    "  'gender': 'male',\n",
    "  'name': 'Иванов Иван Иванович',\n",
    "  'relatives': [2],\n",
    "  'street': 'Льва Толстого',\n",
    "  'town': 'wwwweqe'},\n",
    "        \n",
    " {'apartment': 111,\n",
    "  'birth_date': '26.02.1986',\n",
    "  'building': '16к7стр5',\n",
    "  'citizen_id': 4,\n",
    "  'gender': 'male',\n",
    "  'name': 'Иванов Иван Иванович',\n",
    "  'relatives': [2,55],\n",
    "  'street': 'Льва Толстого',\n",
    "  'town': 'ewqeqwe'}        \n",
    "        \n",
    "       ]}\n",
    "data = data_for_percentiles['citizens']\n",
    "\n",
    "\n",
    "\n",
    "api_url = 'http://127.0.0.1:5000/imports'\n",
    "r = requests.post(url=api_url, json=data_for_percentiles)\n",
    "print(r.status_code, r.reason,r.text)"
   ]
  },
  {
   "cell_type": "code",
   "execution_count": 1,
   "metadata": {},
   "outputs": [],
   "source": [
    "# !pip install simplejson"
   ]
  },
  {
   "cell_type": "code",
   "execution_count": 3,
   "metadata": {},
   "outputs": [],
   "source": [
    "import requests\n",
    "import simplejson\n",
    "import tqdm\n",
    "from flask import Flask, jsonify\n",
    "from flask import abort\n",
    "from flask import json\n",
    "from flask import request\n",
    "import json\n",
    "from tqdm import tqdm"
   ]
  },
  {
   "cell_type": "markdown",
   "metadata": {},
   "source": [
    "# main"
   ]
  },
  {
   "cell_type": "code",
   "execution_count": 7,
   "metadata": {},
   "outputs": [
    {
     "name": "stdout",
     "output_type": "stream",
     "text": [
      "Hello, World!\n"
     ]
    }
   ],
   "source": [
    "main_url = \"http://127.0.0.1:5000\"\n",
    "r = requests.get(main_url)\n",
    "print(r.text)"
   ]
  },
  {
   "cell_type": "markdown",
   "metadata": {},
   "source": [
    "# get"
   ]
  },
  {
   "cell_type": "code",
   "execution_count": 8,
   "metadata": {},
   "outputs": [
    {
     "name": "stdout",
     "output_type": "stream",
     "text": [
      "{}\n"
     ]
    }
   ],
   "source": [
    "url = \"http://127.0.0.1:5000/exports\"\n",
    "r = requests.get(url)\n",
    "print(r.text)"
   ]
  },
  {
   "cell_type": "code",
   "execution_count": 9,
   "metadata": {},
   "outputs": [],
   "source": [
    "data = {\n",
    "\"citizens\": [\n",
    "{\n",
    "\"citizen_id\": 1,\n",
    "\"town\": \"Москва\",\n",
    "\"street\": \"Льва Толстого\",\n",
    "\"building\": \"16к7стр5\",\n",
    "\"apartment\": 7,\n",
    "\"name\": \"Иванов Иван Иванович\",\n",
    "\"birth_date\": \"26.12.1986\",\n",
    "\"gender\": \"male\",\n",
    "\"relatives\": [2]\n",
    "},\n",
    "{\n",
    "\"citizen_id\": 2,\n",
    "\"town\": \"Москва\",\n",
    "\"street\": \"Льва Толстого\",\n",
    "\"building\": \"16к7стр5\",\n",
    "\"apartment\": 7,\n",
    "\"name\": \"Иванов Сергей Иванович\",\n",
    "\"birth_date\": \"17.04.1997\",\n",
    "\"gender\": \"male\",\n",
    "\"relatives\": [1,3]\n",
    "},\n",
    "{\n",
    "\"citizen_id\": 3,\n",
    "\"town\": \"Керчь\",\n",
    "\"street\": \"Иосифа Бродского\",\n",
    "\"building\": \"2\",\n",
    "\"apartment\": 11,\n",
    "\"name\": \"Романова Мария Леонидовна\",\n",
    "\"birth_date\": \"23.11.1986\",\n",
    "\"gender\": \"female\",\n",
    "\"relatives\": [2]\n",
    "},\n",
    "{\n",
    "\"citizen_id\": 5,\n",
    "\"town\": \"Керчь\",\n",
    "\"street\": \"Иосифа Бродского\",\n",
    "\"building\": \"2\",\n",
    "\"apartment\": 11,\n",
    "\"name\": \"Романова Мария Леонидовна\",\n",
    "\"birth_date\": \"23.11.1986\",\n",
    "\"gender\": \"female\",\n",
    "\"relatives\": []\n",
    "}\n",
    "]}"
   ]
  },
  {
   "cell_type": "markdown",
   "metadata": {},
   "source": [
    "# Get all with params"
   ]
  },
  {
   "cell_type": "code",
   "execution_count": 10,
   "metadata": {},
   "outputs": [
    {
     "name": "stdout",
     "output_type": "stream",
     "text": [
      "200 OK {\"data\": [{\"citizen_id\": 1, \"town\": \"Москва\", \"street\": \"Льва Толстого\", \"building\": \"jhg\", \"apartment\": 12, \"name\": \"Иванов Иван Иванович\", \"birth_date\": \"26.12.1986\", \"gender\": \"male\", \"relatives\": [2, 3]}, {\"citizen_id\": 2, \"town\": \"Москва\", \"street\": \"Льва Толстого\", \"building\": \"16к7стр5\", \"apartment\": 2, \"name\": \"s\", \"birth_date\": \"26.12.1986\", \"gender\": \"male\", \"relatives\": [4, 8, 1]}, {\"citizen_id\": 3, \"town\": \"Москва\", \"street\": \"Льва Толстого\", \"building\": \"16к7стр5\", \"apartment\": 2, \"name\": \"s\", \"birth_date\": \"26.12.1986\", \"gender\": \"male\", \"relatives\": [1]}]}\n"
     ]
    }
   ],
   "source": [
    "url = \"http://127.0.0.1:5000/imports/1/citizens\"\n",
    "r = requests.get(url)\n",
    "print(r.status_code, r.reason,r.text)"
   ]
  },
  {
   "cell_type": "markdown",
   "metadata": {},
   "source": [
    "# post"
   ]
  },
  {
   "cell_type": "markdown",
   "metadata": {},
   "source": [
    "    БОЛЬШОЙ ЗАПРОС"
   ]
  },
  {
   "cell_type": "code",
   "execution_count": 14,
   "metadata": {
    "scrolled": true
   },
   "outputs": [
    {
     "name": "stdout",
     "output_type": "stream",
     "text": [
      "201 CREATED {\"data\": {\"import_id\": 18}}\n"
     ]
    }
   ],
   "source": [
    "l = []\n",
    "# size_not_odd\n",
    "size = 29001\n",
    "for i in range(1,size):\n",
    "    t = {\n",
    "\"citizen_id\": i,\n",
    "\"town\": \"Москва\",\n",
    "\"street\": \"Льва Толстого\",\n",
    "\"building\": \"jhg\",\n",
    "\"apartment\": 126,\n",
    "\"name\": \"Иванов Иван Иванович\",\n",
    "\"birth_date\": \"26.12.1986\",\n",
    "\"gender\": \"male\",\n",
    "\"relatives\": [size - i]\n",
    "    }\n",
    "    l.append(t)\n",
    "    \n",
    "data_size_valid = {'citizens' : l}\n",
    "    \n",
    "api_url = 'http://127.0.0.1:5000/imports'\n",
    "r = requests.post(url=api_url, json=data_size_valid)\n",
    "print(r.status_code, r.reason,r.text)"
   ]
  },
  {
   "cell_type": "markdown",
   "metadata": {},
   "source": [
    "    ОБЫЧНЫЙ"
   ]
  },
  {
   "cell_type": "code",
   "execution_count": 15,
   "metadata": {},
   "outputs": [
    {
     "name": "stdout",
     "output_type": "stream",
     "text": [
      "201 CREATED {\"data\": {\"import_id\": 19}}\n"
     ]
    }
   ],
   "source": [
    "data_not_valid = {\n",
    "\"citizens\": [\n",
    "{\n",
    "\"citizen_id\": 1,\n",
    "\"town\": \"Москва\",\n",
    "\"street\": \"Льва Толстого\",\n",
    "\"building\": \"jhg\",\n",
    "\"apartment\": 12,\n",
    "\"name\": \"Иванов Иван Иванович\",\n",
    "\"birth_date\": \"26.12.1986\",\n",
    "\"gender\": \"male\",\n",
    "\"relatives\": [2,3]\n",
    "},\n",
    "{\n",
    "\"citizen_id\": 2,\n",
    "\"town\": \"Москва\",\n",
    "\"street\": \"Льва Толстого\",\n",
    "\"building\": \"16к7стр5\",\n",
    "\"apartment\": 2,\n",
    "\"name\": \"s\",\n",
    "\"birth_date\": \"26.12.1986\",\n",
    "\"gender\": \"male\",\n",
    "\"relatives\": [4,8,1]\n",
    "},\n",
    "{\n",
    "\"citizen_id\": 3,\n",
    "\"town\": \"Москва\",\n",
    "\"street\": \"Льва Толстого\",\n",
    "\"building\": \"16к7стр5\",\n",
    "\"apartment\": 2,\n",
    "\"name\": \"s\",\n",
    "\"birth_date\": \"26.12.1986\",\n",
    "\"gender\": \"male\",\n",
    "\"relatives\": [1]\n",
    "}\n",
    "]}\n",
    "\n",
    "\n",
    "\n",
    "api_url = 'http://127.0.0.1:5000/imports'\n",
    "r = requests.post(url=api_url, json=data_not_valid)\n",
    "print(r.status_code, r.reason,r.text)"
   ]
  },
  {
   "cell_type": "markdown",
   "metadata": {},
   "source": [
    "# patch"
   ]
  },
  {
   "cell_type": "code",
   "execution_count": 16,
   "metadata": {},
   "outputs": [
    {
     "name": "stdout",
     "output_type": "stream",
     "text": [
      "200 OK\n"
     ]
    }
   ],
   "source": [
    "test_patch = {'apartment': 111,\n",
    " 'birth_date': '26.11.1986',\n",
    " 'building': '16к7стр5',\n",
    " 'gender': 'male',\n",
    " 'name': 'Иванов Иван Иванович',\n",
    " 'relatives': [2,3,4,5],\n",
    " 'street': 'Льва Толстого',\n",
    " 'town': 'saddsd'}\n",
    "\n",
    "api_url = 'http://127.0.0.1:5000/imports/15/citizens/1'\n",
    "r = requests.patch(url=api_url, json=test_patch)\n",
    "print(r.status_code, r.reason)"
   ]
  },
  {
   "cell_type": "markdown",
   "metadata": {},
   "source": [
    "# birthdays"
   ]
  },
  {
   "cell_type": "code",
   "execution_count": 17,
   "metadata": {},
   "outputs": [],
   "source": [
    "data_for_birthday = {\n",
    "\"citizens\": [{'apartment': 111,\n",
    "  'birth_date': '26.02.1986',\n",
    "  'building': '16к7стр5',\n",
    "  'citizen_id': 1,\n",
    "  'gender': 'male',\n",
    "  'name': 'Иванов Иван Иванович',\n",
    "  'relatives': [2],\n",
    "  'street': 'Льва Толстого',\n",
    "  'town': 'saddsd'},\n",
    " {'apartment': 111,\n",
    "  'birth_date': '26.07.1986',\n",
    "  'building': '16к7стр5',\n",
    "  'citizen_id': 2,\n",
    "  'gender': 'male',\n",
    "  'name': 'Иванов Иван Иванович',\n",
    "  'relatives': [1,3,4],\n",
    "  'street': 'Льва Толстого',\n",
    "  'town': 'saddsd'},\n",
    "        \n",
    " {'apartment': 111,\n",
    "  'birth_date': '26.02.1986',\n",
    "  'building': '16к7стр5',\n",
    "  'citizen_id': 3,\n",
    "  'gender': 'male',\n",
    "  'name': 'Иванов Иван Иванович',\n",
    "  'relatives': [2],\n",
    "  'street': 'Льва Толстого',\n",
    "  'town': 'saddsd'},\n",
    "        \n",
    " {'apartment': 111,\n",
    "  'birth_date': '26.02.1986',\n",
    "  'building': '16к7стр5',\n",
    "  'citizen_id': 4,\n",
    "  'gender': 'male',\n",
    "  'name': 'Иванов Иван Иванович',\n",
    "  'relatives': [2,55],\n",
    "  'street': 'Льва Толстого',\n",
    "  'town': 'saddsd'}        \n",
    "        \n",
    "       ]}"
   ]
  },
  {
   "cell_type": "code",
   "execution_count": 18,
   "metadata": {},
   "outputs": [
    {
     "name": "stdout",
     "output_type": "stream",
     "text": [
      "201 CREATED {\"data\": {\"import_id\": 20}}\n"
     ]
    }
   ],
   "source": [
    "api_url = 'http://127.0.0.1:5000/imports'\n",
    "r = requests.post(url=api_url, json=data_for_birthday)\n",
    "print(r.status_code, r.reason,r.text)"
   ]
  },
  {
   "cell_type": "code",
   "execution_count": 19,
   "metadata": {},
   "outputs": [
    {
     "name": "stdout",
     "output_type": "stream",
     "text": [
      "200 OK {\"data\": {\"1\": [], \"2\": [{\"citizen_id\": 2, \"relatives\": 3}], \"3\": [], \"4\": [], \"5\": [], \"6\": [], \"7\": [{\"citizen_id\": 1, \"relatives\": 1}, {\"citizen_id\": 3, \"relatives\": 1}, {\"citizen_id\": 4, \"relatives\": 1}], \"8\": [], \"9\": [], \"10\": [], \"11\": [], \"12\": []}}\n"
     ]
    }
   ],
   "source": [
    "api_url = 'http://127.0.0.1:5000/imports/2/citizens/birthdays'\n",
    "r = requests.get(url=api_url)\n",
    "print(r.status_code, r.reason,r.text)"
   ]
  },
  {
   "cell_type": "code",
   "execution_count": 20,
   "metadata": {},
   "outputs": [
    {
     "name": "stdout",
     "output_type": "stream",
     "text": [
      "200 OK {\"data\": {\"1\": [], \"2\": [{\"citizen_id\": 2, \"relatives\": 3}], \"3\": [], \"4\": [], \"5\": [], \"6\": [], \"7\": [{\"citizen_id\": 1, \"relatives\": 1}, {\"citizen_id\": 3, \"relatives\": 1}, {\"citizen_id\": 4, \"relatives\": 1}], \"8\": [], \"9\": [], \"10\": [], \"11\": [], \"12\": []}}\n"
     ]
    }
   ],
   "source": [
    "api_url = 'http://127.0.0.1:5000/imports/2/citizens/birthdays'\n",
    "r = requests.get(url=api_url)\n",
    "print(r.status_code, r.reason,r.text)"
   ]
  },
  {
   "cell_type": "markdown",
   "metadata": {},
   "source": [
    "# percentiles"
   ]
  },
  {
   "cell_type": "code",
   "execution_count": 21,
   "metadata": {},
   "outputs": [],
   "source": [
    "data_for_percentiles = {\n",
    "\"citizens\": [{'apartment': 111,\n",
    "  'birth_date': '26.01.1956',\n",
    "  'building': '16к7стр5',\n",
    "  'citizen_id': 1,\n",
    "  'gender': 'male',\n",
    "  'name': 'Иванов Иван Иванович',\n",
    "  'relatives': [2],\n",
    "  'street': 'Льва Толстого',\n",
    "  'town': 'qweqeqweqwe'},\n",
    " {'apartment': 111,\n",
    "  'birth_date': '26.07.1986',\n",
    "  'building': '16к7стр5',\n",
    "  'citizen_id': 2,\n",
    "  'gender': 'male',\n",
    "  'name': 'Иванов Иван Иванович',\n",
    "  'relatives': [1,3,4],\n",
    "  'street': 'Льва Толстого',\n",
    "  'town': 'qweqeqweqwe'},\n",
    "        \n",
    " {'apartment': 111,\n",
    "  'birth_date': '26.02.1986',\n",
    "  'building': '16к7стр5',\n",
    "  'citizen_id': 3,\n",
    "  'gender': 'male',\n",
    "  'name': 'Иванов Иван Иванович',\n",
    "  'relatives': [2],\n",
    "  'street': 'Льва Толстого',\n",
    "  'town': 'wwwweqe'},\n",
    "        \n",
    " {'apartment': 111,\n",
    "  'birth_date': '26.02.1986',\n",
    "  'building': '16к7стр5',\n",
    "  'citizen_id': 4,\n",
    "  'gender': 'male',\n",
    "  'name': 'Иванов Иван Иванович',\n",
    "  'relatives': [2,55],\n",
    "  'street': 'Льва Толстого',\n",
    "  'town': 'ewqeqwe'}        \n",
    "        \n",
    "       ]}\n",
    "data = data_for_percentiles['citizens']"
   ]
  },
  {
   "cell_type": "code",
   "execution_count": 24,
   "metadata": {},
   "outputs": [
    {
     "name": "stdout",
     "output_type": "stream",
     "text": [
      "201 CREATED {\"data\": {\"import_id\": 22}}\n"
     ]
    }
   ],
   "source": [
    "api_url = 'http://127.0.0.1:5000/imports'\n",
    "r = requests.post(url=api_url, json=data_for_percentiles)\n",
    "print(r.status_code, r.reason,r.text)"
   ]
  },
  {
   "cell_type": "code",
   "execution_count": 23,
   "metadata": {},
   "outputs": [
    {
     "name": "stdout",
     "output_type": "stream",
     "text": [
      "200 OK {\"data\": [{\"town\": \"saddsd\", \"p50\": 32.726202454533635, \"p75\": 32.726202454533635, \"p99\": 32.726202454533635}, {\"town\": \"Москва\", \"p50\": 32.644065244323976, \"p75\": 32.644065244323976, \"p99\": 32.644065244323976}]}\n",
      "Wall time: 2.03 s\n"
     ]
    }
   ],
   "source": [
    "%%time\n",
    "api_url = 'http://127.0.0.1:5000/imports/15/towns/stat/percentile/age'\n",
    "r = requests.get(url=api_url)\n",
    "print(r.status_code, r.reason,r.text)"
   ]
  },
  {
   "cell_type": "code",
   "execution_count": null,
   "metadata": {},
   "outputs": [],
   "source": []
  }
 ],
 "metadata": {
  "kernelspec": {
   "display_name": "Python 3",
   "language": "python",
   "name": "python3"
  },
  "language_info": {
   "codemirror_mode": {
    "name": "ipython",
    "version": 3
   },
   "file_extension": ".py",
   "mimetype": "text/x-python",
   "name": "python",
   "nbconvert_exporter": "python",
   "pygments_lexer": "ipython3",
   "version": "3.6.4"
  }
 },
 "nbformat": 4,
 "nbformat_minor": 2
}
