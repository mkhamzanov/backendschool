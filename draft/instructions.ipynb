{
 "cells": [
  {
   "cell_type": "markdown",
   "metadata": {},
   "source": [
    "    \n",
    "    sudo apt install openssh-server\n",
    "    sudo apt-get install python3\n",
    "    sudo apt-get install python3-pip\n",
    "     \n",
    "    \n",
    "    \n",
    "    sudo apt install python3-venv\n",
    "    sudo apt install git\n",
    "    sudo pip3 install virtualenv\n",
    "    \n",
    "    sudo apt install mysql-server\n",
    "    \n",
    "    sudo mysql_secure_installation\n",
    "    \n",
    "    \n",
    "    \n",
    "    "
   ]
  },
  {
   "cell_type": "markdown",
   "metadata": {},
   "source": [
    "    sudo mysql"
   ]
  },
  {
   "cell_type": "markdown",
   "metadata": {},
   "source": [
    "    SET GLOBAL validate_password_length = 6;\n",
    "    SET GLOBAL validate_password_number_count = 2;"
   ]
  },
  {
   "cell_type": "markdown",
   "metadata": {},
   "source": [
    "    ALTER USER 'root'@'localhost' IDENTIFIED WITH mysql_native_password BY 'Test11';"
   ]
  },
  {
   "cell_type": "markdown",
   "metadata": {},
   "source": [
    "    CREATE DATABASE new_schema;"
   ]
  },
  {
   "cell_type": "markdown",
   "metadata": {},
   "source": [
    "    CREATE TABLE new_schema.data (\n",
    "              import_id INT NOT NULL,\n",
    "              citizen_id INT NOT NULL,\n",
    "              town VARCHAR(256) NOT NULL,\n",
    "              street VARCHAR(256) NOT NULL,\n",
    "              building VARCHAR(256) NOT NULL,\n",
    "              apartment INT NOT NULL,\n",
    "              person_name VARCHAR(256) NOT NULL,\t\n",
    "              birth_date VARCHAR(100) NOT NULL,\n",
    "              gender VARCHAR(100) NOT NULL,\n",
    "              relatives MEDIUMTEXT NOT NULL,\n",
    "              PRIMARY KEY (import_id,citizen_id));\n",
    "              \n",
    "\n",
    "    insert into new_schema.data values (0,0,'x','x','x',-99,'x','x','x','x');"
   ]
  },
  {
   "cell_type": "markdown",
   "metadata": {},
   "source": [
    "    ALTER DATABASE new_schema CHARACTER SET = utf8mb4 COLLATE = utf8mb4_unicode_ci;\n",
    "    ALTER TABLE new_schema.dataset CONVERT TO CHARACTER SET utf8mb4 COLLATE utf8mb4_unicode_ci;"
   ]
  },
  {
   "cell_type": "markdown",
   "metadata": {},
   "source": [
    "    sudo apt-get install nginx \n",
    "    sudo apt-get install nginx supervisor"
   ]
  },
  {
   "cell_type": "markdown",
   "metadata": {},
   "source": [
    "# Создаю файл"
   ]
  },
  {
   "cell_type": "code",
   "execution_count": null,
   "metadata": {},
   "outputs": [],
   "source": []
  },
  {
   "cell_type": "code",
   "execution_count": null,
   "metadata": {},
   "outputs": [],
   "source": []
  },
  {
   "cell_type": "markdown",
   "metadata": {},
   "source": [
    "# .env"
   ]
  },
  {
   "cell_type": "markdown",
   "metadata": {},
   "source": [
    "    virtualvenv .env    \n",
    "    source .env/bin/activate\n",
    "    pip3 install -r requirements.txt\n",
    "    pip install Flask"
   ]
  },
  {
   "cell_type": "markdown",
   "metadata": {},
   "source": [
    "    pip install gunicorn\n",
    "    gunicorn app:app -b localhost:8080 &"
   ]
  },
  {
   "cell_type": "markdown",
   "metadata": {},
   "source": [
    "# .env для тестинга"
   ]
  },
  {
   "cell_type": "code",
   "execution_count": null,
   "metadata": {},
   "outputs": [],
   "source": []
  },
  {
   "cell_type": "code",
   "execution_count": null,
   "metadata": {},
   "outputs": [],
   "source": []
  },
  {
   "cell_type": "code",
   "execution_count": null,
   "metadata": {},
   "outputs": [],
   "source": []
  },
  {
   "cell_type": "code",
   "execution_count": null,
   "metadata": {},
   "outputs": [],
   "source": []
  },
  {
   "cell_type": "code",
   "execution_count": null,
   "metadata": {},
   "outputs": [],
   "source": []
  },
  {
   "cell_type": "code",
   "execution_count": null,
   "metadata": {},
   "outputs": [],
   "source": []
  }
 ],
 "metadata": {
  "kernelspec": {
   "display_name": "Python 3",
   "language": "python",
   "name": "python3"
  },
  "language_info": {
   "codemirror_mode": {
    "name": "ipython",
    "version": 3
   },
   "file_extension": ".py",
   "mimetype": "text/x-python",
   "name": "python",
   "nbconvert_exporter": "python",
   "pygments_lexer": "ipython3",
   "version": "3.6.4"
  }
 },
 "nbformat": 4,
 "nbformat_minor": 2
}
