{
 "cells": [
  {
   "cell_type": "markdown",
   "metadata": {},
   "source": [
    "    \n",
    "    sudo apt install openssh-server\n",
    "    sudo apt-get install python3\n",
    "    sudo apt-get install python3-pip\n",
    "     \n",
    "    \n",
    "    \n",
    "    sudo apt install python3-venv\n",
    "    sudo apt install git\n",
    "    sudo pip3 install virtualenv\n",
    "    \n",
    "    sudo apt install mysql-server\n",
    "    \n",
    "    sudo mysql_secure_installation\n",
    "    \n",
    "    \n",
    "    \n",
    "    "
   ]
  },
  {
   "cell_type": "markdown",
   "metadata": {},
   "source": [
    "    sudo mysql"
   ]
  },
  {
   "cell_type": "markdown",
   "metadata": {},
   "source": [
    "    SET GLOBAL validate_password_length = 6;\n",
    "    SET GLOBAL validate_password_number_count = 2;"
   ]
  },
  {
   "cell_type": "markdown",
   "metadata": {},
   "source": [
    "    ALTER USER 'root'@'localhost' IDENTIFIED WITH mysql_native_password BY 'Test11';"
   ]
  },
  {
   "cell_type": "markdown",
   "metadata": {},
   "source": [
    "    CREATE DATABASE new_schema;"
   ]
  },
  {
   "cell_type": "markdown",
   "metadata": {},
   "source": [
    "    CREATE TABLE new_schema.data (\n",
    "              import_id INT NOT NULL,\n",
    "              citizen_id INT NOT NULL,\n",
    "              town VARCHAR(512) NOT NULL,\n",
    "              street VARCHAR(512) NOT NULL,\n",
    "              building VARCHAR(512) NOT NULL,\n",
    "              apartment INT NOT NULL,\n",
    "              person_name VARCHAR(512) NOT NULL,\t\n",
    "              birth_date VARCHAR(100) NOT NULL,\n",
    "              gender VARCHAR(100) NOT NULL,\n",
    "              relatives MEDIUMTEXT NOT NULL,\n",
    "              PRIMARY KEY (import_id,citizen_id));\n",
    "              \n",
    "\n",
    "    insert into new_schema.data values (0,0,'LA','Unknown','1b',0,'Default Name','01.01.1900','male','[]');"
   ]
  },
  {
   "cell_type": "markdown",
   "metadata": {},
   "source": [
    "    ALTER DATABASE new_schema CHARACTER SET = utf8mb4 COLLATE = utf8mb4_unicode_ci;\n",
    "    ALTER TABLE new_schema.dataset CONVERT TO CHARACTER SET utf8mb4 COLLATE utf8mb4_unicode_ci;"
   ]
  },
  {
   "cell_type": "markdown",
   "metadata": {},
   "source": [
    "    sudo apt-get install nginx \n",
    "    sudo apt-get install nginx supervisor"
   ]
  },
  {
   "cell_type": "markdown",
   "metadata": {},
   "source": [
    "# Создаю файл"
   ]
  },
  {
   "cell_type": "code",
   "execution_count": null,
   "metadata": {},
   "outputs": [],
   "source": []
  },
  {
   "cell_type": "code",
   "execution_count": null,
   "metadata": {},
   "outputs": [],
   "source": []
  },
  {
   "cell_type": "markdown",
   "metadata": {},
   "source": [
    "# .env"
   ]
  },
  {
   "cell_type": "markdown",
   "metadata": {},
   "source": [
    "    virtualvenv .env    \n",
    "    source .env/bin/activate\n",
    "    pip3 install -r requirements.txt\n",
    "    pip install Flask"
   ]
  },
  {
   "cell_type": "markdown",
   "metadata": {},
   "source": [
    "    pip install gunicorn\n",
    "    gunicorn app:app -b localhost:8080 &"
   ]
  },
  {
   "cell_type": "markdown",
   "metadata": {},
   "source": [
    "# .env для тестинга"
   ]
  },
  {
   "cell_type": "markdown",
   "metadata": {},
   "source": [
    "    virtualvenv .env    \n",
    "    source .env/bin/activate\n",
    "    pip3 install -r requirements.txt\n",
    "    pip3 install Flask\n",
    "    pip install ipython\n",
    "    mysql -uroot -p"
   ]
  },
  {
   "cell_type": "code",
   "execution_count": 8,
   "metadata": {},
   "outputs": [
    {
     "ename": "AssertionError",
     "evalue": "Should be 6",
     "output_type": "error",
     "traceback": [
      "\u001b[1;31m---------------------------------------------------------------------------\u001b[0m",
      "\u001b[1;31mAssertionError\u001b[0m                            Traceback (most recent call last)",
      "\u001b[1;32m<ipython-input-8-875d07d0cae3>\u001b[0m in \u001b[0;36m<module>\u001b[1;34m()\u001b[0m\n\u001b[1;32m----> 1\u001b[1;33m \u001b[1;32massert\u001b[0m \u001b[0msum\u001b[0m\u001b[1;33m(\u001b[0m\u001b[1;33m[\u001b[0m\u001b[1;36m1\u001b[0m\u001b[1;33m,\u001b[0m \u001b[1;36m2\u001b[0m\u001b[1;33m,\u001b[0m \u001b[1;36m3\u001b[0m\u001b[1;33m]\u001b[0m\u001b[1;33m)\u001b[0m \u001b[1;33m==\u001b[0m \u001b[1;36m3\u001b[0m\u001b[1;33m,\u001b[0m \u001b[1;34m\"Should be 6\"\u001b[0m\u001b[1;33m\u001b[0m\u001b[0m\n\u001b[0m",
      "\u001b[1;31mAssertionError\u001b[0m: Should be 6"
     ]
    }
   ],
   "source": [
    "assert sum([1, 2, 3]) == 3, \"Should be 6\""
   ]
  },
  {
   "cell_type": "code",
   "execution_count": 12,
   "metadata": {},
   "outputs": [
    {
     "ename": "AssertionError",
     "evalue": "Далбаеб прога твоя не работает",
     "output_type": "error",
     "traceback": [
      "\u001b[1;31m---------------------------------------------------------------------------\u001b[0m",
      "\u001b[1;31mAssertionError\u001b[0m                            Traceback (most recent call last)",
      "\u001b[1;32m<ipython-input-12-eb0122293ce1>\u001b[0m in \u001b[0;36m<module>\u001b[1;34m()\u001b[0m\n\u001b[1;32m----> 1\u001b[1;33m \u001b[1;32massert\u001b[0m \u001b[1;36m1\u001b[0m\u001b[1;33m<\u001b[0m\u001b[1;36m0\u001b[0m\u001b[1;33m,\u001b[0m \u001b[1;34m\"Далбаеб прога твоя не работает\"\u001b[0m\u001b[1;33m\u001b[0m\u001b[0m\n\u001b[0m",
      "\u001b[1;31mAssertionError\u001b[0m: Далбаеб прога твоя не работает"
     ]
    }
   ],
   "source": [
    "assert 1<0, \"Далбаеб прога твоя не работает\""
   ]
  },
  {
   "cell_type": "code",
   "execution_count": null,
   "metadata": {},
   "outputs": [],
   "source": []
  },
  {
   "cell_type": "code",
   "execution_count": null,
   "metadata": {},
   "outputs": [],
   "source": []
  },
  {
   "cell_type": "code",
   "execution_count": null,
   "metadata": {},
   "outputs": [],
   "source": []
  }
 ],
 "metadata": {
  "kernelspec": {
   "display_name": "Python 3",
   "language": "python",
   "name": "python3"
  },
  "language_info": {
   "codemirror_mode": {
    "name": "ipython",
    "version": 3
   },
   "file_extension": ".py",
   "mimetype": "text/x-python",
   "name": "python",
   "nbconvert_exporter": "python",
   "pygments_lexer": "ipython3",
   "version": "3.6.4"
  }
 },
 "nbformat": 4,
 "nbformat_minor": 2
}
