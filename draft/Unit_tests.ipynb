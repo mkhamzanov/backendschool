{
 "cells": [
  {
   "cell_type": "code",
   "execution_count": 84,
   "metadata": {},
   "outputs": [],
   "source": [
    "import numpy as np"
   ]
  },
  {
   "cell_type": "code",
   "execution_count": 85,
   "metadata": {},
   "outputs": [
    {
     "data": {
      "text/plain": [
       "42.0"
      ]
     },
     "execution_count": 85,
     "metadata": {},
     "output_type": "execute_result"
    }
   ],
   "source": [
    "np.percentile([30,40,50,44],50)"
   ]
  },
  {
   "cell_type": "code",
   "execution_count": null,
   "metadata": {},
   "outputs": [],
   "source": []
  },
  {
   "cell_type": "code",
   "execution_count": null,
   "metadata": {},
   "outputs": [],
   "source": []
  },
  {
   "cell_type": "code",
   "execution_count": 76,
   "metadata": {},
   "outputs": [],
   "source": [
    "def calculate_age(born):\n",
    "    today = datetime.utcnow()\n",
    "    year =  today.year - born.year - ((today.month, today.day) < (born.month, born.day))\n",
    "    return year"
   ]
  },
  {
   "cell_type": "code",
   "execution_count": 111,
   "metadata": {},
   "outputs": [
    {
     "name": "stdout",
     "output_type": "stream",
     "text": [
      "1986-12-26 00:00:00 32\n",
      "1997-04-17 00:00:00 22\n",
      "27.0 29.5 31.9\n"
     ]
    }
   ],
   "source": [
    "lst = [\"26.12.1986\",\"17.04.1997\"]\n",
    "l = []\n",
    "for i in lst:\n",
    "    a = datetime.strptime(i, \"%d.%m.%Y\")\n",
    "    l.append(calculate_age(a))\n",
    "    print(a,calculate_age(a))\n",
    "print(np.percentile(l,50),\n",
    "     np.percentile(l,75),\n",
    "     np.percentile(l,99))"
   ]
  },
  {
   "cell_type": "code",
   "execution_count": 110,
   "metadata": {},
   "outputs": [
    {
     "name": "stdout",
     "output_type": "stream",
     "text": [
      "1986-11-23 00:00:00 32\n",
      "1955-11-23 00:00:00 63\n",
      "47.5 55.25 62.69\n"
     ]
    }
   ],
   "source": [
    "lst = [\"23.11.1986\",\"23.11.1955\"]\n",
    "l = []\n",
    "for i in lst:\n",
    "    a = datetime.strptime(i, \"%d.%m.%Y\")\n",
    "    l.append(calculate_age(a))\n",
    "    print(a,calculate_age(a))\n",
    "print(np.percentile(l,50),\n",
    "     np.percentile(l,75),\n",
    "     np.percentile(l,99))"
   ]
  },
  {
   "cell_type": "code",
   "execution_count": null,
   "metadata": {},
   "outputs": [],
   "source": []
  },
  {
   "cell_type": "code",
   "execution_count": null,
   "metadata": {},
   "outputs": [],
   "source": []
  },
  {
   "cell_type": "code",
   "execution_count": null,
   "metadata": {},
   "outputs": [],
   "source": []
  },
  {
   "cell_type": "code",
   "execution_count": 82,
   "metadata": {},
   "outputs": [],
   "source": [
    "born = datetime(\n",
    "                day=23,month=11,year=1988)"
   ]
  },
  {
   "cell_type": "code",
   "execution_count": 60,
   "metadata": {},
   "outputs": [],
   "source": [
    "        l = []\n",
    "        # size_not_odd\n",
    "        size = 10001\n",
    "        for i in range(1,size):\n",
    "            t = {\n",
    "                    \"citizen_id\": i,\n",
    "                    \"town\": \"Москва\",\n",
    "                    \"street\": \"Льва Толстого\",\n",
    "                    \"building\": \"jhg\",\n",
    "                    \"apartment\": 111,\n",
    "                    \"name\": \"Иванов Иван Иванович\",\n",
    "                    \"birth_date\": \"26.12.1986\",\n",
    "                    \"gender\": \"male\",\n",
    "                    \"relatives\": [size - i]\n",
    "                        }\n",
    "            l.append(t)"
   ]
  },
  {
   "cell_type": "code",
   "execution_count": 61,
   "metadata": {},
   "outputs": [
    {
     "data": {
      "text/plain": [
       "{'apartment': 111,\n",
       " 'birth_date': '26.12.1986',\n",
       " 'building': 'jhg',\n",
       " 'citizen_id': 2,\n",
       " 'gender': 'male',\n",
       " 'name': 'Иванов Иван Иванович',\n",
       " 'relatives': [9999],\n",
       " 'street': 'Льва Толстого',\n",
       " 'town': 'Москва'}"
      ]
     },
     "execution_count": 61,
     "metadata": {},
     "output_type": "execute_result"
    }
   ],
   "source": [
    "l[1]"
   ]
  },
  {
   "cell_type": "code",
   "execution_count": null,
   "metadata": {},
   "outputs": [],
   "source": []
  },
  {
   "cell_type": "code",
   "execution_count": null,
   "metadata": {},
   "outputs": [],
   "source": []
  },
  {
   "cell_type": "code",
   "execution_count": null,
   "metadata": {},
   "outputs": [],
   "source": []
  },
  {
   "cell_type": "code",
   "execution_count": null,
   "metadata": {},
   "outputs": [],
   "source": []
  },
  {
   "cell_type": "code",
   "execution_count": null,
   "metadata": {},
   "outputs": [],
   "source": []
  },
  {
   "cell_type": "code",
   "execution_count": null,
   "metadata": {},
   "outputs": [],
   "source": []
  },
  {
   "cell_type": "code",
   "execution_count": null,
   "metadata": {},
   "outputs": [],
   "source": []
  },
  {
   "cell_type": "code",
   "execution_count": null,
   "metadata": {},
   "outputs": [],
   "source": []
  },
  {
   "cell_type": "code",
   "execution_count": null,
   "metadata": {},
   "outputs": [],
   "source": []
  },
  {
   "cell_type": "code",
   "execution_count": null,
   "metadata": {},
   "outputs": [],
   "source": []
  },
  {
   "cell_type": "code",
   "execution_count": null,
   "metadata": {},
   "outputs": [],
   "source": []
  },
  {
   "cell_type": "code",
   "execution_count": null,
   "metadata": {},
   "outputs": [],
   "source": []
  },
  {
   "cell_type": "code",
   "execution_count": 73,
   "metadata": {},
   "outputs": [],
   "source": [
    "        tmp_data = {\n",
    "    \"citizens\": [{\n",
    "            \"citizen_id\": 1,\n",
    "            \"town\": \"Москва\",\n",
    "            \"street\": \"Льва Толстого\",\n",
    "            \"building\": \"16к7стр5\",\n",
    "            \"apartment\": 7,\n",
    "            \"name\": \"Иванов Иван Иванович\",\n",
    "            \"birth_date\": \"26.12.1986\",\n",
    "            \"gender\": \"male\",\n",
    "            \"relatives\": [2]},\n",
    "                {\"citizen_id\": 2,\n",
    "                \"town\": \"Москва\",\n",
    "                \"street\": \"Льва Толстого\",\n",
    "                \"building\": \"16к7стр5\",\n",
    "                \"apartment\": 7,\n",
    "                \"name\": \"Иванов Сергей Иванович\",\n",
    "                \"birth_date\": \"17.04.1997\",\n",
    "                \"gender\": \"male\",\n",
    "                \"relatives\": [1,3]},\n",
    "                    {\"citizen_id\": 3,\n",
    "                    \"town\": \"Керчь\",\n",
    "                    \"street\": \"Иосифа Бродского\",\n",
    "                    \"building\": \"2\",\n",
    "                    \"apartment\": 11,\n",
    "                    \"name\": \"Романова Мария Леонидовна\",\n",
    "                    \"birth_date\": \"23.11.1986\",\n",
    "                    \"gender\": \"female\",\n",
    "                    \"relatives\": [2]}]}\n",
    "        api_url = main_url + '/imports'\n",
    "        r = requests.post(url=api_url, json=tmp_data)"
   ]
  },
  {
   "cell_type": "code",
   "execution_count": 74,
   "metadata": {},
   "outputs": [
    {
     "data": {
      "text/plain": [
       "1858"
      ]
     },
     "execution_count": 74,
     "metadata": {},
     "output_type": "execute_result"
    }
   ],
   "source": [
    "import_id = json.loads(r.text)['data']['import_id']  \n",
    "import_id"
   ]
  },
  {
   "cell_type": "code",
   "execution_count": null,
   "metadata": {},
   "outputs": [],
   "source": []
  },
  {
   "cell_type": "code",
   "execution_count": 51,
   "metadata": {},
   "outputs": [],
   "source": [
    "    data = {\n",
    "    \"citizens\": [{\n",
    "            \"citizen_id\": 1,\n",
    "            \"town\": \"Москва\",\n",
    "            \"street\": \"Льва Толстого\",\n",
    "            \"building\": \"16к7стр5\",\n",
    "            \"apartment\": 7,\n",
    "            \"name\": \"Иванов Иван Иванович\",\n",
    "            \"birth_date\": \"26.12.1986\",\n",
    "            \"gender\": \"male\",\n",
    "            \"relatives\": [2]},\n",
    "                {\"citizen_id\": 2,\n",
    "                \"town\": \"Москва\",\n",
    "                \"street\": \"Льва Толстого\",\n",
    "                \"building\": \"16к7стр5\",\n",
    "                \"apartment\": 7,\n",
    "                \"name\": \"Иванов Сергей Иванович\",\n",
    "                \"birth_date\": \"17.04.1997\",\n",
    "                \"gender\": \"male\",\n",
    "                \"relatives\": [1,3]},\n",
    "                    {\"citizen_id\": 3,\n",
    "                    \"town\": \"Керчь\",\n",
    "                    \"street\": \"Иосифа Бродского\",\n",
    "                    \"building\": \"2\",\n",
    "                    \"apartment\": 11,\n",
    "                    \"name\": \"Романова Мария Леонидовна\",\n",
    "                    \"birth_date\": \"23.11.1986\",\n",
    "                    \"gender\": \"female\",\n",
    "                    \"relatives\": [2]}]}  "
   ]
  },
  {
   "cell_type": "code",
   "execution_count": null,
   "metadata": {},
   "outputs": [],
   "source": [
    "    def test_method__2__town_valid__false___value_other_type(self):\n",
    "        data = self.data.copy()\n",
    "        api_url = self.main_url + '/imports'\n",
    "        r = requests.post(url=api_url, json=data)\n",
    "        t2 = time()\n",
    "        import_id = json.loads(r.text)['data']['import_id']\n",
    "        self.assertEqual(r.status_code, 201)\n",
    "        test_patch = {\n",
    "                      \"town\": [],\n",
    "                \"street\": \"Льва Толстого\",\n",
    "                \"building\": \"16к7стр5\",\n",
    "                \"apartment\": 7,\n",
    "                \"name\": \"Иванов Сергей Иванович\",\n",
    "                \"relatives\": [1,3]}\n",
    "        api_url = self.main_url + '/imports/' + str(int(import_id)) + '/citizens/2'\n",
    "        r = requests.patch(url=api_url, json=test_patch)\n",
    "        self.assertEqual(r.status_code, 400)\n",
    "        \n",
    "    def test_method__2__street_valid__false___value_other_type(self):\n",
    "        data = self.data.copy()\n",
    "        api_url = self.main_url + '/imports'\n",
    "        r = requests.post(url=api_url, json=data)\n",
    "        t2 = time()\n",
    "        import_id = json.loads(r.text)['data']['import_id']\n",
    "        self.assertEqual(r.status_code, 201)\n",
    "        test_patch = {\n",
    "                      \"town\": \"asdasd\",\n",
    "                \"street\": [],\n",
    "                \"building\": \"16к7стр5\",\n",
    "                \"apartment\": 7,\n",
    "                \"name\": \"Иванов Сергей Иванович\",\n",
    "                \"relatives\": [1,3]}\n",
    "        api_url = self.main_url + '/imports/' + str(int(import_id)) + '/citizens/2'\n",
    "        r = requests.patch(url=api_url, json=test_patch)\n",
    "        self.assertEqual(r.status_code, 400)\n",
    "        \n",
    "        \n",
    "    def test_method__2__building_valid__false___value_other_type(self):\n",
    "        data = self.data.copy()\n",
    "        api_url = self.main_url + '/imports'\n",
    "        r = requests.post(url=api_url, json=data)\n",
    "        t2 = time()\n",
    "        import_id = json.loads(r.text)['data']['import_id']\n",
    "        self.assertEqual(r.status_code, 201)\n",
    "        test_patch = {\n",
    "                      \"town\": \"asdasd\",\n",
    "                \"street\": \"asdasd\",\n",
    "                \"building\": [],\n",
    "                \"apartment\": 7,\n",
    "                \"name\": \"Иванов Сергей Иванович\",\n",
    "                \"relatives\": [1,3]}\n",
    "        api_url = self.main_url + '/imports/' + str(int(import_id)) + '/citizens/2'\n",
    "        r = requests.patch(url=api_url, json=test_patch)\n",
    "        self.assertEqual(r.status_code, 400)\n",
    "        \n",
    "    def test_method__2__name_valid__false___value_other_type(self):\n",
    "        data = self.data.copy()\n",
    "        api_url = self.main_url + '/imports'\n",
    "        r = requests.post(url=api_url, json=data)\n",
    "        t2 = time()\n",
    "        import_id = json.loads(r.text)['data']['import_id']\n",
    "        self.assertEqual(r.status_code, 201)\n",
    "        test_patch = {\n",
    "                      \"town\": \"asdasd\",\n",
    "                \"street\": \"asdasd\",\n",
    "                \"building\": \"asdasd\",\n",
    "                \"apartment\": 7,\n",
    "                \"name\": [],\n",
    "                \"relatives\": [1,3]}\n",
    "        api_url = self.main_url + '/imports/' + str(int(import_id)) + '/citizens/2'\n",
    "        r = requests.patch(url=api_url, json=test_patch)\n",
    "        self.assertEqual(r.status_code, 400)\n",
    "# --------------------------------------------------------------------------------------"
   ]
  },
  {
   "cell_type": "code",
   "execution_count": null,
   "metadata": {},
   "outputs": [],
   "source": []
  },
  {
   "cell_type": "code",
   "execution_count": null,
   "metadata": {},
   "outputs": [],
   "source": []
  },
  {
   "cell_type": "code",
   "execution_count": null,
   "metadata": {},
   "outputs": [],
   "source": []
  },
  {
   "cell_type": "code",
   "execution_count": null,
   "metadata": {},
   "outputs": [],
   "source": []
  },
  {
   "cell_type": "code",
   "execution_count": null,
   "metadata": {},
   "outputs": [],
   "source": []
  },
  {
   "cell_type": "code",
   "execution_count": null,
   "metadata": {},
   "outputs": [],
   "source": []
  },
  {
   "cell_type": "code",
   "execution_count": null,
   "metadata": {},
   "outputs": [],
   "source": []
  },
  {
   "cell_type": "code",
   "execution_count": null,
   "metadata": {},
   "outputs": [],
   "source": []
  },
  {
   "cell_type": "code",
   "execution_count": null,
   "metadata": {},
   "outputs": [],
   "source": []
  },
  {
   "cell_type": "code",
   "execution_count": null,
   "metadata": {},
   "outputs": [],
   "source": []
  },
  {
   "cell_type": "code",
   "execution_count": null,
   "metadata": {},
   "outputs": [],
   "source": []
  },
  {
   "cell_type": "code",
   "execution_count": null,
   "metadata": {},
   "outputs": [],
   "source": []
  },
  {
   "cell_type": "code",
   "execution_count": null,
   "metadata": {},
   "outputs": [],
   "source": []
  },
  {
   "cell_type": "code",
   "execution_count": null,
   "metadata": {},
   "outputs": [],
   "source": []
  },
  {
   "cell_type": "code",
   "execution_count": null,
   "metadata": {},
   "outputs": [],
   "source": []
  },
  {
   "cell_type": "code",
   "execution_count": 11,
   "metadata": {},
   "outputs": [],
   "source": [
    "import requests\n",
    "import simplejson\n",
    "from flask import Flask, jsonify, abort, request\n",
    "import json\n",
    "from datetime import datetime\n",
    "import pymysql"
   ]
  },
  {
   "cell_type": "code",
   "execution_count": 12,
   "metadata": {},
   "outputs": [],
   "source": [
    "schema = 'new_schema'\n",
    "table = 'data'\n",
    "password = 'Make17'\n",
    "main_url = \"http://127.0.0.1:5000\""
   ]
  },
  {
   "cell_type": "code",
   "execution_count": 10,
   "metadata": {},
   "outputs": [],
   "source": [
    "def delete_all_rows_from_mysql_table():\n",
    "    global password,schema,table\n",
    "    conn = pymysql.connect(host='127.0.0.1', port=3306, user='root', passwd=password, db='sys',autocommit=True)\n",
    "    cur = conn.cursor()\n",
    "    sql = f\"DELETE FROM {schema}.{table} WHERE IMPORT_ID>0\"\n",
    "    cur.execute(sql)"
   ]
  },
  {
   "cell_type": "code",
   "execution_count": 11,
   "metadata": {},
   "outputs": [
    {
     "name": "stdout",
     "output_type": "stream",
     "text": [
      "Wall time: 37.2 ms\n"
     ]
    }
   ],
   "source": [
    "%%time\n",
    "delete_all_rows_from_mysql_table()"
   ]
  },
  {
   "cell_type": "markdown",
   "metadata": {},
   "source": [
    "# Get"
   ]
  },
  {
   "cell_type": "code",
   "execution_count": 52,
   "metadata": {},
   "outputs": [
    {
     "name": "stdout",
     "output_type": "stream",
     "text": [
      "200 OK {\"data\": [{\"citizen_id\": 0, \"town\": \"LA\", \"street\": \"Unknown\", \"building\": \"1b\", \"apartment\": 0, \"name\": \"Default Name\", \"birth_date\": \"01.01.1900\", \"gender\": \"male\", \"relatives\": []}]}\n"
     ]
    }
   ],
   "source": [
    "url = main_url + \"/imports/0/citizens\"\n",
    "r = requests.get(url)\n",
    "print(r.status_code, r.reason,r.text)\n"
   ]
  },
  {
   "cell_type": "code",
   "execution_count": 18,
   "metadata": {},
   "outputs": [
    {
     "data": {
      "text/plain": [
       "{'citizens': [{'apartment': 7,\n",
       "   'birth_date': '26.12.1986',\n",
       "   'building': '16к7стр5',\n",
       "   'citizen_id': 1,\n",
       "   'gender': 'male',\n",
       "   'name': 'Иванов Иван Иванович',\n",
       "   'relatives': [2],\n",
       "   'street': 'Льва Толстого',\n",
       "   'town': 'Москва'},\n",
       "  [1],\n",
       "  {'apartment': 11,\n",
       "   'birth_date': '23.11.1986',\n",
       "   'building': '2',\n",
       "   'citizen_id': 3,\n",
       "   'gender': 'female',\n",
       "   'name': 'Романова Мария Леонидовна',\n",
       "   'relatives': [2],\n",
       "   'street': 'Иосифа Бродского',\n",
       "   'town': 'Керчь'}]}"
      ]
     },
     "execution_count": 18,
     "metadata": {},
     "output_type": "execute_result"
    }
   ],
   "source": [
    "data = {\n",
    "\"citizens\": [{\n",
    "        \"citizen_id\": 1,\n",
    "        \"town\": \"Москва\",\n",
    "        \"street\": \"Льва Толстого\",\n",
    "        \"building\": \"16к7стр5\",\n",
    "        \"apartment\": 7,\n",
    "        \"name\": \"Иванов Иван Иванович\",\n",
    "        \"birth_date\": \"26.12.1986\",\n",
    "        \"gender\": \"male\",\n",
    "        \"relatives\": [2]},\n",
    "            {\"citizen_id\": 2,\n",
    "            \"town\": \"Москва\",\n",
    "            \"street\": \"Льва Толстого\",\n",
    "            \"building\": \"16к7стр5\",\n",
    "            \"apartment\": 7,\n",
    "            \"name\": \"Иванов Сергей Иванович\",\n",
    "            \"birth_date\": \"17.04.1997\",\n",
    "            \"gender\": \"male\",\n",
    "            \"relatives\": [1,3]},\n",
    "                {\"citizen_id\": 3,\n",
    "                \"town\": \"Керчь\",\n",
    "                \"street\": \"Иосифа Бродского\",\n",
    "                \"building\": \"2\",\n",
    "                \"apartment\": 11,\n",
    "                \"name\": \"Романова Мария Леонидовна\",\n",
    "                \"birth_date\": \"23.11.1986\",\n",
    "                \"gender\": \"female\",\n",
    "                \"relatives\": [2]}]}\n",
    "data['citizens'][1]=[1]\n",
    "data"
   ]
  },
  {
   "cell_type": "code",
   "execution_count": null,
   "metadata": {},
   "outputs": [],
   "source": []
  },
  {
   "cell_type": "code",
   "execution_count": 16,
   "metadata": {},
   "outputs": [
    {
     "name": "stdout",
     "output_type": "stream",
     "text": [
      "201 CREATED {\"data\": {\"import_id\": 14}}\n"
     ]
    }
   ],
   "source": [
    "api_url = main_url + '/imports'\n",
    "r = requests.post(url=api_url, json=data)\n",
    "print(r.status_code, r.reason,r.text)"
   ]
  },
  {
   "cell_type": "markdown",
   "metadata": {},
   "source": [
    "# post"
   ]
  },
  {
   "cell_type": "markdown",
   "metadata": {},
   "source": [
    "    БОЛЬШОЙ ЗАПРОС"
   ]
  },
  {
   "cell_type": "code",
   "execution_count": 187,
   "metadata": {
    "scrolled": true
   },
   "outputs": [
    {
     "name": "stdout",
     "output_type": "stream",
     "text": [
      "201 CREATED {\"data\": {\"import_id\": 1}}\n",
      "Wall time: 1.38 s\n"
     ]
    }
   ],
   "source": [
    "%%time\n",
    "l = []\n",
    "# size_not_odd\n",
    "size = 10001\n",
    "for i in range(1,size):\n",
    "    t = {\n",
    "\"citizen_id\": i,\n",
    "\"town\": \"Москва\",\n",
    "\"street\": \"Льва Толстого\",\n",
    "\"building\": \"jhg\",\n",
    "\"apartment\": 126,\n",
    "\"name\": \"Иванов Иван Иванович\",\n",
    "\"birth_date\": \"26.12.1986\",\n",
    "\"gender\": \"male\",\n",
    "\"relatives\": [size - i]\n",
    "    }\n",
    "    l.append(t)\n",
    "    \n",
    "data_size_valid = {'citizens' : l}\n",
    "    \n",
    "api_url = main_url + '/imports'\n",
    "r = requests.post(url=api_url, json=data_size_valid)\n",
    "print(r.status_code, r.reason,r.text)"
   ]
  },
  {
   "cell_type": "markdown",
   "metadata": {},
   "source": [
    "    ОБЫЧНЫЙ"
   ]
  },
  {
   "cell_type": "code",
   "execution_count": 20,
   "metadata": {},
   "outputs": [
    {
     "data": {
      "text/plain": [
       "257"
      ]
     },
     "execution_count": 20,
     "metadata": {},
     "output_type": "execute_result"
    }
   ],
   "source": [
    "len('q'*257)"
   ]
  },
  {
   "cell_type": "code",
   "execution_count": 188,
   "metadata": {},
   "outputs": [
    {
     "name": "stdout",
     "output_type": "stream",
     "text": [
      "201 CREATED {\"data\": {\"import_id\": 2}}\n"
     ]
    }
   ],
   "source": [
    "data_not_valid = {\n",
    "\"citizens\": [\n",
    "{\n",
    "\"citizen_id\": 1,\n",
    "\"town\": \"Москва\",\n",
    "\"street\": \"Льва Толстого\",\n",
    "\"building\": \"jhg\",\n",
    "\"apartment\": 12,\n",
    "\"name\": \"Иванов Иван Иванович\",\n",
    "\"birth_date\": \"26.12.1986\",\n",
    "\"gender\": \"male\",\n",
    "\"relatives\": [2,3]\n",
    "},\n",
    "{\n",
    "\"citizen_id\": 2,\n",
    "\"town\": \"Москва\",\n",
    "\"street\": \"Льва Толстого\",\n",
    "\"building\": \"16к7стр5\",\n",
    "\"apartment\": 2,\n",
    "\"name\": \"s\",\n",
    "\"birth_date\": \"26.12.1986\",\n",
    "\"gender\": \"male\",\n",
    "\"relatives\": [4,8,1]\n",
    "},\n",
    "{\n",
    "\"citizen_id\": 3,\n",
    "\"town\": \"Москва\",\n",
    "\"street\": \"Льва Толстого\",\n",
    "\"building\": \"16к7стр5\",\n",
    "\"apartment\": 2,\n",
    "\"name\": \"s\",\n",
    "\"birth_date\": \"26.12.1986\",\n",
    "\"gender\": \"male\",\n",
    "\"relatives\": [1]\n",
    "}\n",
    "]}\n",
    "\n",
    "\n",
    "\n",
    "api_url = main_url + '/imports'\n",
    "r = requests.post(url=api_url, json=data_not_valid)\n",
    "print(r.status_code, r.reason,r.text)"
   ]
  },
  {
   "cell_type": "markdown",
   "metadata": {},
   "source": [
    "# patch"
   ]
  },
  {
   "cell_type": "code",
   "execution_count": 189,
   "metadata": {},
   "outputs": [
    {
     "name": "stdout",
     "output_type": "stream",
     "text": [
      "200 OK\n",
      "Wall time: 1.7 s\n"
     ]
    }
   ],
   "source": [
    "%%time\n",
    "test_patch = {'apartment': 111,\n",
    " 'birth_date': '26.11.1986',\n",
    " 'building': '16к7стр5',\n",
    " 'gender': 'male',\n",
    " 'name': 'Иванов Иван Иванович',\n",
    " 'relatives': [2,3,4,5],\n",
    " 'street': 'Льва Толстого',\n",
    " 'town': 'saddsd'}\n",
    "\n",
    "api_url = main_url + '/imports/1/citizens/1'\n",
    "r = requests.patch(url=api_url, json=test_patch)\n",
    "print(r.status_code, r.reason)"
   ]
  },
  {
   "cell_type": "markdown",
   "metadata": {},
   "source": [
    "# patch big big"
   ]
  },
  {
   "cell_type": "code",
   "execution_count": 190,
   "metadata": {},
   "outputs": [
    {
     "name": "stdout",
     "output_type": "stream",
     "text": [
      "200 OK\n",
      "Wall time: 2.81 s\n"
     ]
    }
   ],
   "source": [
    "%%time\n",
    "test_patch = {'apartment': 111,\n",
    " 'birth_date': '26.11.1986',\n",
    " 'building': '16к7стр5',\n",
    " 'gender': 'male',\n",
    " 'name': 'Иванов Иван Иванович',\n",
    " 'relatives': list(range(2,10000)),\n",
    " 'street': 'Льва Толстого',\n",
    " 'town': 'saddsd'}\n",
    "\n",
    "api_url = main_url + '/imports/1/citizens/1'\n",
    "r = requests.patch(url=api_url, json=test_patch)\n",
    "print(r.status_code, r.reason)"
   ]
  },
  {
   "cell_type": "markdown",
   "metadata": {},
   "source": [
    "# birthdays"
   ]
  },
  {
   "cell_type": "code",
   "execution_count": 191,
   "metadata": {},
   "outputs": [],
   "source": [
    "data_for_birthday = {\n",
    "\"citizens\": [{'apartment': 111,\n",
    "  'birth_date': '26.02.1986',\n",
    "  'building': '16к7стр5',\n",
    "  'citizen_id': 1,\n",
    "  'gender': 'male',\n",
    "  'name': 'Иванов Иван Иванович',\n",
    "  'relatives': [2],\n",
    "  'street': 'Льва Толстого',\n",
    "  'town': 'saddsd'},\n",
    " {'apartment': 111,\n",
    "  'birth_date': '26.07.1986',\n",
    "  'building': '16к7стр5',\n",
    "  'citizen_id': 2,\n",
    "  'gender': 'male',\n",
    "  'name': 'Иванов Иван Иванович',\n",
    "  'relatives': [1,3,4],\n",
    "  'street': 'Льва Толстого',\n",
    "  'town': 'saddsd'},\n",
    "        \n",
    " {'apartment': 111,\n",
    "  'birth_date': '26.02.1986',\n",
    "  'building': '16к7стр5',\n",
    "  'citizen_id': 3,\n",
    "  'gender': 'male',\n",
    "  'name': 'Иванов Иван Иванович',\n",
    "  'relatives': [2],\n",
    "  'street': 'Льва Толстого',\n",
    "  'town': 'saddsd'},\n",
    "        \n",
    " {'apartment': 111,\n",
    "  'birth_date': '26.02.1986',\n",
    "  'building': '16к7стр5',\n",
    "  'citizen_id': 4,\n",
    "  'gender': 'male',\n",
    "  'name': 'Иванов Иван Иванович',\n",
    "  'relatives': [2,55],\n",
    "  'street': 'Льва Толстого',\n",
    "  'town': 'saddsd'}        \n",
    "        \n",
    "       ]}"
   ]
  },
  {
   "cell_type": "code",
   "execution_count": 192,
   "metadata": {},
   "outputs": [
    {
     "name": "stdout",
     "output_type": "stream",
     "text": [
      "201 CREATED {\"data\": {\"import_id\": 3}}\n"
     ]
    }
   ],
   "source": [
    "api_url = main_url + '/imports'\n",
    "r = requests.post(url=api_url, json=data_for_birthday)\n",
    "print(r.status_code, r.reason,r.text)"
   ]
  },
  {
   "cell_type": "code",
   "execution_count": 193,
   "metadata": {},
   "outputs": [
    {
     "name": "stdout",
     "output_type": "stream",
     "text": [
      "200 OK\n",
      "Wall time: 995 ms\n"
     ]
    }
   ],
   "source": [
    "%%time\n",
    "api_url = main_url + '/imports/1/citizens/birthdays'\n",
    "r = requests.get(url=api_url)\n",
    "print(r.status_code, r.reason,\n",
    "#       r.text\n",
    "     )"
   ]
  },
  {
   "cell_type": "code",
   "execution_count": 194,
   "metadata": {},
   "outputs": [
    {
     "name": "stdout",
     "output_type": "stream",
     "text": [
      "200 OK\n",
      "Wall time: 1.21 s\n"
     ]
    }
   ],
   "source": [
    "%%time\n",
    "api_url = main_url + '/imports/1/citizens/birthdays'\n",
    "r = requests.get(url=api_url)\n",
    "print(r.status_code, r.reason,\n",
    "#       r.text\n",
    "     )\n",
    "\n"
   ]
  },
  {
   "cell_type": "markdown",
   "metadata": {},
   "source": [
    "# percentiles"
   ]
  },
  {
   "cell_type": "code",
   "execution_count": 195,
   "metadata": {},
   "outputs": [],
   "source": [
    "data_for_percentiles = {\n",
    "\"citizens\": [{'apartment': 111,\n",
    "  'birth_date': '26.01.1956',\n",
    "  'building': '16к7стр5',\n",
    "  'citizen_id': 1,\n",
    "  'gender': 'male',\n",
    "  'name': 'Иванов Иван Иванович',\n",
    "  'relatives': [2],\n",
    "  'street': 'Льва Толстого',\n",
    "  'town': 'qweqeqweqwe'},\n",
    " {'apartment': 111,\n",
    "  'birth_date': '26.07.1986',\n",
    "  'building': '16к7стр5',\n",
    "  'citizen_id': 2,\n",
    "  'gender': 'male',\n",
    "  'name': 'Иванов Иван Иванович',\n",
    "  'relatives': [1,3,4],\n",
    "  'street': 'Льва Толстого',\n",
    "  'town': 'qweqeqweqwe'},\n",
    "        \n",
    " {'apartment': 111,\n",
    "  'birth_date': '26.02.1986',\n",
    "  'building': '16к7стр5',\n",
    "  'citizen_id': 3,\n",
    "  'gender': 'male',\n",
    "  'name': 'Иванов Иван Иванович',\n",
    "  'relatives': [2],\n",
    "  'street': 'Льва Толстого',\n",
    "  'town': 'wwwweqe'},\n",
    "        \n",
    " {'apartment': 111,\n",
    "  'birth_date': '26.02.1986',\n",
    "  'building': '16к7стр5',\n",
    "  'citizen_id': 4,\n",
    "  'gender': 'male',\n",
    "  'name': 'Иванов Иван Иванович',\n",
    "  'relatives': [2,55],\n",
    "  'street': 'Льва Толстого',\n",
    "  'town': 'ewqeqwe'}        \n",
    "        \n",
    "       ]}\n",
    "data = data_for_percentiles['citizens']"
   ]
  },
  {
   "cell_type": "code",
   "execution_count": 196,
   "metadata": {},
   "outputs": [
    {
     "name": "stdout",
     "output_type": "stream",
     "text": [
      "201 CREATED {\"data\": {\"import_id\": 4}}\n"
     ]
    }
   ],
   "source": [
    "api_url = main_url + '/imports'\n",
    "r = requests.post(url=api_url, json=data_for_percentiles)\n",
    "print(r.status_code, r.reason,r.text)"
   ]
  },
  {
   "cell_type": "code",
   "execution_count": 197,
   "metadata": {},
   "outputs": [
    {
     "name": "stdout",
     "output_type": "stream",
     "text": [
      "200 OK {\"data\": [{\"town\": \"saddsd\", \"p50\": 32.73989198956858, \"p75\": 32.73989198956858, \"p99\": 32.73989198956858}, {\"town\": \"Москва\", \"p50\": 32.65775477935892, \"p75\": 32.65775477935892, \"p99\": 32.65775477935892}]}\n",
      "Wall time: 1.07 s\n"
     ]
    }
   ],
   "source": [
    "%%time\n",
    "api_url = main_url + '/imports/1/towns/stat/percentile/age'\n",
    "r = requests.get(url=api_url)\n",
    "print(r.status_code, r.reason,r.text)"
   ]
  }
 ],
 "metadata": {
  "kernelspec": {
   "display_name": "Python 3",
   "language": "python",
   "name": "python3"
  },
  "language_info": {
   "codemirror_mode": {
    "name": "ipython",
    "version": 3
   },
   "file_extension": ".py",
   "mimetype": "text/x-python",
   "name": "python",
   "nbconvert_exporter": "python",
   "pygments_lexer": "ipython3",
   "version": "3.6.4"
  }
 },
 "nbformat": 4,
 "nbformat_minor": 2
}
