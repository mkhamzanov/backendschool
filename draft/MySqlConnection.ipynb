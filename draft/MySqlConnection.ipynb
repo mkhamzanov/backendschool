{
 "cells": [
  {
   "cell_type": "code",
   "execution_count": 2,
   "metadata": {},
   "outputs": [],
   "source": [
    "# !pip install pymysql"
   ]
  },
  {
   "cell_type": "code",
   "execution_count": 1,
   "metadata": {},
   "outputs": [],
   "source": [
    "from datetime import datetime\n",
    "import json\n",
    "import pymysql\n",
    "import pandas as pd"
   ]
  },
  {
   "cell_type": "code",
   "execution_count": 20,
   "metadata": {},
   "outputs": [],
   "source": [
    "password = 'Make17'"
   ]
  },
  {
   "cell_type": "code",
   "execution_count": 35,
   "metadata": {},
   "outputs": [],
   "source": [
    "def create_mysql_table(schema,name):\n",
    "    global password\n",
    "    conn = pymysql.connect(host='127.0.0.1', port=3306, user='root', passwd=password, db='sys',autocommit=True)\n",
    "    cur = conn.cursor()\n",
    "    sql = f\"\"\"CREATE TABLE {schema}.{name} (\n",
    "              import_id INT NOT NULL,\n",
    "              citizen_id INT NOT NULL,\n",
    "              town VARCHAR(256) NOT NULL,\n",
    "              street VARCHAR(256) NOT NULL,\n",
    "              building VARCHAR(256) NOT NULL,\n",
    "              apartment INT NOT NULL,\n",
    "              person_name VARCHAR(256) NOT NULL,\t\n",
    "              birth_date VARCHAR(100) NOT NULL,\n",
    "              gender VARCHAR(100) NOT NULL,\n",
    "              relatives MEDIUMTEXT NOT NULL,\n",
    "              PRIMARY KEY (import_id,citizen_id)\n",
    "              )\"\"\"\n",
    "    try:\n",
    "        cur.execute(sql)\n",
    "        print('Table created')\n",
    "    except:\n",
    "        print('Table dont created')"
   ]
  },
  {
   "cell_type": "code",
   "execution_count": 36,
   "metadata": {},
   "outputs": [],
   "source": [
    "def insert_into_mysql_table_default_row():\n",
    "    global password\n",
    "    conn = pymysql.connect(host='127.0.0.1', port=3306, user='root', passwd=password, db='sys',autocommit=True)\n",
    "    cur = conn.cursor()\n",
    "    sql = f\"\"\"insert into schema.data values (0,0,'LA','Unknown','1b',0,'Default Name','01.01.1900','male','[]')\"\"\"\n",
    "    try:\n",
    "        cur.execute(sql)\n",
    "        print('Row inserted')\n",
    "    except:\n",
    "        print('Row not inserted')"
   ]
  },
  {
   "cell_type": "code",
   "execution_count": 37,
   "metadata": {},
   "outputs": [],
   "source": [
    "def delete_mysql_table(schema,name):\n",
    "    global password\n",
    "    conn = pymysql.connect(host='127.0.0.1', port=3306, user='root', passwd=password, db='sys',autocommit=True)\n",
    "    cur = conn.cursor()\n",
    "    sql = f\"\"\"drop table {schema}.{name}\"\"\"\n",
    "    try:\n",
    "        cur.execute(sql)\n",
    "        print('Table deleted')\n",
    "    except:\n",
    "        print('Table dont deleted')"
   ]
  },
  {
   "cell_type": "code",
   "execution_count": 38,
   "metadata": {},
   "outputs": [],
   "source": [
    "def get_data_from_mysql_table():\n",
    "    global password\n",
    "    conn = pymysql.connect(host='127.0.0.1', port=3306, user='root', passwd=password, db='sys',autocommit=True)\n",
    "    cur = conn.cursor()\n",
    "    sql = f\"select * from schema.data\"\n",
    "    cur.execute(sql)\n",
    "    data = cur.fetchall()\n",
    "    if len(data)>0:\n",
    "        return {'citizens' : [{'citizen_id' : x[1],\n",
    "                 'town' : x[2],\n",
    "                 'street' : x[3],\n",
    "                 'building' : x[4],\n",
    "                 'apartment' : x[5],\n",
    "                 'name' : x[6],\n",
    "                 'birth_date' : x[7],\n",
    "                 'gender' : x[8],\n",
    "                 'relatives' : json.loads(x[9])} for x in data]}\n",
    "    return False"
   ]
  },
  {
   "cell_type": "code",
   "execution_count": 39,
   "metadata": {},
   "outputs": [],
   "source": [
    "def get_data_from_mysql_table_by_import_id(import_id):\n",
    "    global password\n",
    "    conn = pymysql.connect(host='127.0.0.1', port=3306, user='root', passwd=password, db='sys',autocommit=True)\n",
    "    cur = conn.cursor()\n",
    "    sql = f\"select * from schema.data where import_id={import_id}\"\n",
    "    cur.execute(sql)\n",
    "    data = cur.fetchall()\n",
    "    if len(data)>0:\n",
    "        return {'citizens' : [{'citizen_id' : x[1],\n",
    "                 'town' : x[2],\n",
    "                 'street' : x[3],\n",
    "                 'building' : x[4],\n",
    "                 'apartment' : x[5],\n",
    "                 'name' : x[6],\n",
    "                 'birth_date' : x[7],\n",
    "                 'gender' : x[8],\n",
    "                 'relatives' : json.loads(x[9])} for x in data]}\n",
    "    return False"
   ]
  },
  {
   "cell_type": "code",
   "execution_count": 40,
   "metadata": {},
   "outputs": [],
   "source": [
    "def insert_dict_into_mysql_table(data, import_id):\n",
    "    global password\n",
    "    data = data['citizens']\n",
    "    conn = pymysql.connect(host='127.0.0.1', port=3306, user='root', passwd=password, db='sys',autocommit=True)\n",
    "    cur = conn.cursor()\n",
    "    \n",
    "    rows = [(import_id,x['citizen_id'],x['town'],x['street'],x['building'],\n",
    "      x['apartment'],x['name'],x['birth_date'],x['gender'],json.dumps(x['relatives'])) for x in data]\n",
    "    \n",
    "    values = ', '.join(map(str, rows))\n",
    "    sql = f\"INSERT INTO new_schema.data VALUES {values}\"\n",
    "    cur.execute(sql)"
   ]
  },
  {
   "cell_type": "code",
   "execution_count": 41,
   "metadata": {},
   "outputs": [],
   "source": [
    "def change_mysql_table_by_improt_id(data,import_id):\n",
    "    global password\n",
    "    data = data['citizens']\n",
    "    conn = pymysql.connect(host='127.0.0.1', port=3306, user='root', passwd=password, db='sys',autocommit=True)\n",
    "    cur = conn.cursor()\n",
    "    sql_delete = f\"DELETE FROM schema.data WHERE IMPORT_ID={import_id}\"\n",
    "    cur.execute(sql_delete)\n",
    "    \n",
    "    rows = [(import_id,x['citizen_id'],x['town'],x['street'],x['building'],\n",
    "      x['apartment'],x['name'],x['birth_date'],x['gender'],json.dumps(x['relatives'])) for x in data]\n",
    "    values = ', '.join(map(str, rows))\n",
    "    sql_insert = f\"INSERT INTO new_schema.data VALUES {values}\"\n",
    "    cur.execute(sql_insert)"
   ]
  },
  {
   "cell_type": "code",
   "execution_count": 43,
   "metadata": {},
   "outputs": [],
   "source": [
    "def get_maximum_import_id_from_mysql_table():\n",
    "    global password\n",
    "    conn = pymysql.connect(host='127.0.0.1', port=3306, user='root', passwd=password, db='sys',autocommit=True)\n",
    "    cur = conn.cursor()\n",
    "    sql = f\"SELECT MAX(IMPORT_ID) FROM schema.data\"\n",
    "    cur.execute(sql)\n",
    "    return cur.fetchall()[0][0]\n",
    "    "
   ]
  },
  {
   "cell_type": "code",
   "execution_count": 44,
   "metadata": {},
   "outputs": [],
   "source": [
    "def delete_all_rows_from_mysql_table():\n",
    "    global password\n",
    "    conn = pymysql.connect(host='127.0.0.1', port=3306, user='root', passwd=password, db='sys',autocommit=True)\n",
    "    cur = conn.cursor()\n",
    "    sql = f\"DELETE FROM schema.data WHERE IMPORT_ID>0\"\n",
    "    cur.execute(sql)"
   ]
  },
  {
   "cell_type": "code",
   "execution_count": 45,
   "metadata": {},
   "outputs": [],
   "source": [
    "data = {\n",
    "\"citizens\": [\n",
    "{\n",
    "\"citizen_id\": 1,\n",
    "\"town\": \"Москва\",\n",
    "\"street\": \"Льва Толстого\",\n",
    "\"building\": \"16к7стр5\",\n",
    "\"apartment\": 7,\n",
    "\"name\": \"Иванов Иван Иванович\",\n",
    "\"birth_date\": \"26.12.1986\",\n",
    "\"gender\": \"male\",\n",
    "\"relatives\": [2]\n",
    "},\n",
    "{\n",
    "\"citizen_id\": 2,\n",
    "\"town\": \"Москва\",\n",
    "\"street\": \"Льва Толстого\",\n",
    "\"building\": \"16к7стр5\",\n",
    "\"apartment\": 7,\n",
    "\"name\": \"Иванов Сергей Иванович\",\n",
    "\"birth_date\": \"17.04.1997\",\n",
    "\"gender\": \"male\",\n",
    "\"relatives\": [1,3]\n",
    "},\n",
    "{\n",
    "\"citizen_id\": 3,\n",
    "\"town\": \"Керчь\",\n",
    "\"street\": \"Иосифа Бродского\",\n",
    "\"building\": \"2\",\n",
    "\"apartment\": 11,\n",
    "\"name\": \"Романова Мария Леонидовна\",\n",
    "\"birth_date\": \"23.11.1986\",\n",
    "\"gender\": \"female\",\n",
    "\"relatives\": [2]\n",
    "},\n",
    "{\n",
    "\"citizen_id\": 5,\n",
    "\"town\": \"Керчь\",\n",
    "\"street\": \"Иосифа Бродского\",\n",
    "\"building\": \"2\",\n",
    "\"apartment\": 11,\n",
    "\"name\": \"Романова Мария Леонидовна\",\n",
    "\"birth_date\": \"23.11.1986\",\n",
    "\"gender\": \"female\",\n",
    "\"relatives\": []\n",
    "}\n",
    "]}"
   ]
  },
  {
   "cell_type": "code",
   "execution_count": 46,
   "metadata": {},
   "outputs": [
    {
     "name": "stdout",
     "output_type": "stream",
     "text": [
      "Table deleted\n"
     ]
    }
   ],
   "source": [
    "delete_mysql_table('schema','data')"
   ]
  },
  {
   "cell_type": "code",
   "execution_count": 47,
   "metadata": {},
   "outputs": [
    {
     "name": "stdout",
     "output_type": "stream",
     "text": [
      "Table created\n"
     ]
    }
   ],
   "source": [
    "create_mysql_table('schema','data')"
   ]
  },
  {
   "cell_type": "code",
   "execution_count": 48,
   "metadata": {},
   "outputs": [
    {
     "name": "stdout",
     "output_type": "stream",
     "text": [
      "Row inserted\n"
     ]
    }
   ],
   "source": [
    "insert_into_mysql_table_default_row()"
   ]
  },
  {
   "cell_type": "code",
   "execution_count": 49,
   "metadata": {},
   "outputs": [],
   "source": [
    "delete_all_rows_from_mysql_table()"
   ]
  },
  {
   "cell_type": "code",
   "execution_count": 50,
   "metadata": {
    "scrolled": true
   },
   "outputs": [
    {
     "data": {
      "text/plain": [
       "{'citizens': [{'apartment': 0,\n",
       "   'birth_date': '01.01.1900',\n",
       "   'building': '1b',\n",
       "   'citizen_id': 0,\n",
       "   'gender': 'male',\n",
       "   'name': 'Default Name',\n",
       "   'relatives': [],\n",
       "   'street': 'Unknown',\n",
       "   'town': 'LA'}]}"
      ]
     },
     "execution_count": 50,
     "metadata": {},
     "output_type": "execute_result"
    }
   ],
   "source": [
    "get_data_from_mysql_table()"
   ]
  },
  {
   "cell_type": "code",
   "execution_count": 51,
   "metadata": {},
   "outputs": [],
   "source": [
    "# insert_dict_into_mysql_table(data, 1)"
   ]
  },
  {
   "cell_type": "code",
   "execution_count": 52,
   "metadata": {
    "scrolled": true
   },
   "outputs": [
    {
     "data": {
      "text/plain": [
       "{'citizens': [{'apartment': 0,\n",
       "   'birth_date': '01.01.1900',\n",
       "   'building': '1b',\n",
       "   'citizen_id': 0,\n",
       "   'gender': 'male',\n",
       "   'name': 'Default Name',\n",
       "   'relatives': [],\n",
       "   'street': 'Unknown',\n",
       "   'town': 'LA'}]}"
      ]
     },
     "execution_count": 52,
     "metadata": {},
     "output_type": "execute_result"
    }
   ],
   "source": [
    "get_data_from_mysql_table_by_import_id(0)"
   ]
  },
  {
   "cell_type": "code",
   "execution_count": 53,
   "metadata": {},
   "outputs": [],
   "source": [
    "# change_mysql_table_by_improt_id({'citizens': [{'apartment': 7,\n",
    "#    'birth_date': '26.12.1986',\n",
    "#    'building': '16к7стр5',\n",
    "#    'citizen_id': 1,\n",
    "#    'gender': 'male',\n",
    "#    'name': 'Иванов Иван Иванович',\n",
    "#    'relatives': [2],\n",
    "#    'street': 'Льва Толстого',\n",
    "#    'town': 'Москва'},\n",
    "                                             \n",
    "#                                             {'apartment': 7,\n",
    "#    'birth_date': '26.12.1986',\n",
    "#    'building': '16к7стр5',\n",
    "#    'citizen_id': 2,\n",
    "#    'gender': 'male',\n",
    "#    'name': 'Иванов Иван Иванович',\n",
    "#    'relatives': [2],\n",
    "#    'street': 'Льва Толстого',\n",
    "#    'town': 'Москва'}]},1)"
   ]
  },
  {
   "cell_type": "code",
   "execution_count": 54,
   "metadata": {},
   "outputs": [
    {
     "data": {
      "text/plain": [
       "0"
      ]
     },
     "execution_count": 54,
     "metadata": {},
     "output_type": "execute_result"
    }
   ],
   "source": [
    "get_maximum_import_id_from_mysql_table()"
   ]
  },
  {
   "cell_type": "code",
   "execution_count": 55,
   "metadata": {},
   "outputs": [],
   "source": [
    "# data_big = {'citizens' : [{\n",
    "# \"citizen_id\": x,\n",
    "# \"town\": \"Москва\",\n",
    "# \"street\": \"Льва Толстого\",\n",
    "# \"building\": \"16к7стр5\",\n",
    "# \"apartment\": 7,\n",
    "# \"name\": \"Иванов Иван Иванович\",\n",
    "# \"birth_date\": \"26.12.1986\",\n",
    "# \"gender\": \"male\",\n",
    "# \"relatives\": [2]\n",
    "# } for x in range(10000)]}"
   ]
  },
  {
   "cell_type": "code",
   "execution_count": 56,
   "metadata": {},
   "outputs": [],
   "source": [
    "# %%time\n",
    "# insert_dict_into_mysql_table(data_big, 3)"
   ]
  }
 ],
 "metadata": {
  "kernelspec": {
   "display_name": "Python 3",
   "language": "python",
   "name": "python3"
  },
  "language_info": {
   "codemirror_mode": {
    "name": "ipython",
    "version": 3
   },
   "file_extension": ".py",
   "mimetype": "text/x-python",
   "name": "python",
   "nbconvert_exporter": "python",
   "pygments_lexer": "ipython3",
   "version": "3.6.4"
  }
 },
 "nbformat": 4,
 "nbformat_minor": 2
}
