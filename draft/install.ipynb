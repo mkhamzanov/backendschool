{
 "cells": [
  {
   "cell_type": "markdown",
   "metadata": {},
   "source": [
    "    sudo apt install python3-venv\n",
    "    \n",
    "    \n",
    "    \n",
    "    \n",
    "    \n",
    "    \n",
    "    \n",
    "    \n",
    "    sudo apt-get install python3\n",
    "    sudo apt install openssh-server\n",
    "    sudo apt-get install python3-pip\n",
    "    sudo pip3 install virtualenv\n",
    "    sudo apt install git\n",
    "    \n",
    "    "
   ]
  },
  {
   "cell_type": "markdown",
   "metadata": {},
   "source": [
    "    ALTER USER 'root'@'localhost' IDENTIFIED WITH mysql_native_password BY 'Make17';"
   ]
  },
  {
   "cell_type": "markdown",
   "metadata": {},
   "source": [
    "    CREATE DATABASE new_schema;\n"
   ]
  },
  {
   "cell_type": "markdown",
   "metadata": {},
   "source": [
    "    CREATE TABLE new_schema.dataset (\n",
    "      import_id INT NOT NULL,\n",
    "      citizen_id INT NOT NULL,\n",
    "      town VARCHAR(100) NOT NULL,\n",
    "      street VARCHAR(100) NOT NULL,\n",
    "      building VARCHAR(100) NOT NULL,\n",
    "      apartment INT NOT NULL,\n",
    "      person_name VARCHAR(30) NOT NULL,\t\n",
    "      birth_date VARCHAR(100) NOT NULL,\n",
    "      gender VARCHAR(100) NOT NULL,\n",
    "      relatives VARCHAR(1000) NOT NULL,\n",
    "      PRIMARY KEY (import_id,citizen_id)\n",
    "    );\n",
    "    insert into new_schema.dataset values (0,0,'x','x','x',-99,'x','x','x','x');"
   ]
  },
  {
   "cell_type": "markdown",
   "metadata": {},
   "source": [
    "    ALTER DATABASE new_schema CHARACTER SET = utf8mb4 COLLATE = utf8mb4_unicode_ci;\n",
    "    ALTER TABLE dataset CONVERT TO CHARACTER SET utf8mb4 COLLATE utf8mb4_unicode_ci;\n",
    "    sudo apt-get install python-pip python-dev nginx\n",
    "    pip install uwsgi flask\n",
    "\n"
   ]
  },
  {
   "cell_type": "code",
   "execution_count": null,
   "metadata": {},
   "outputs": [],
   "source": [
    "    nano ~/venv/wsgi.py\n"
   ]
  },
  {
   "cell_type": "code",
   "execution_count": 1,
   "metadata": {},
   "outputs": [],
   "source": [
    "# from venv import app\n",
    "\n",
    "# if __name__ == \"__main__\":\n",
    "#     app.run()"
   ]
  },
  {
   "cell_type": "code",
   "execution_count": null,
   "metadata": {},
   "outputs": [],
   "source": [
    "\n",
    "sudo apt install uwsgi-core\n",
    "sudo apt install uwsgi-plugin-alarm-curl\n",
    "sudo apt install uwsgi-plugin-alarm-xmpp\n",
    "sudo apt install uwsgi-plugin-curl-cron\n",
    "sudo apt install uwsgi-plugin-emperor-pg\n",
    "sudo apt install uwsgi-plugin-gccgo\n",
    "sudo apt install uwsgi-plugin-geoip\n",
    "sudo apt install uwsgi-plugin-glusterfs\n",
    "sudo apt install uwsgi-plugin-graylog2\n",
    "sudo apt install uwsgi-plugin-jvm-openjdk-8\n",
    "sudo apt install uwsgi-plugin-ldap\n",
    "sudo apt install uwsgi-plugin-lua5.1\n",
    "sudo apt install uwsgi-plugin-lua5.2\n",
    "sudo apt install uwsgi-plugin-luajit\n",
    "sudo apt install uwsgi-plugin-mono\n",
    "sudo apt install uwsgi-plugin-php\n",
    "sudo apt install uwsgi-plugin-psgi\n",
    "sudo apt install uwsgi-plugin-python\n",
    "sudo apt install uwsgi-plugin-python3\n",
    "sudo apt install uwsgi-plugin-rack-ruby2.5\n",
    "sudo apt install uwsgi-plugin-rados\n",
    "sudo apt install uwsgi-plugin-router-access\n",
    "sudo apt install uwsgi-plugin-sqlite3\n",
    "sudo apt install uwsgi-plugin-v8\n",
    "sudo apt install uwsgi-plugin-xslt\n"
   ]
  },
  {
   "cell_type": "code",
   "execution_count": null,
   "metadata": {},
   "outputs": [],
   "source": [
    "nano vim /etc/nginx/conf.d/virtual.conf"
   ]
  }
 ],
 "metadata": {
  "kernelspec": {
   "display_name": "Python 3",
   "language": "python",
   "name": "python3"
  },
  "language_info": {
   "codemirror_mode": {
    "name": "ipython",
    "version": 3
   },
   "file_extension": ".py",
   "mimetype": "text/x-python",
   "name": "python",
   "nbconvert_exporter": "python",
   "pygments_lexer": "ipython3",
   "version": "3.6.4"
  }
 },
 "nbformat": 4,
 "nbformat_minor": 2
}
