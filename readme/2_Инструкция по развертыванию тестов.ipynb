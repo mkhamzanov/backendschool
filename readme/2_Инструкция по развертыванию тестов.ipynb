{
 "cells": [
  {
   "cell_type": "markdown",
   "metadata": {},
   "source": [
    "# Разворачивать тесты можно только после того, как развернут [сервис](https://github.com/mkhamzanov/backendschool/blob/master/readme/1_%D0%98%D0%BD%D1%81%D1%82%D1%80%D1%83%D0%BA%D1%86%D0%B8%D1%8F%20%D0%BF%D0%BE%20%D1%80%D0%B0%D0%B7%D0%B2%D0%B5%D1%80%D1%82%D1%8B%D0%B2%D0%B0%D0%BD%D0%B8%D1%8E%20%D1%81%D0%B5%D1%80%D0%B2%D0%B8%D1%81%D0%B0.ipynb)\n",
    "\n"
   ]
  },
  {
   "cell_type": "markdown",
   "metadata": {},
   "source": [
    "### Проходим в папку test\n",
    "    1. Создаем virtualenv\n",
    "        virtualenv -p python3 .env\n",
    "    2. Активируем\n",
    "        source .env/bin/activate\n",
    "    3. Устанавливаем все необходимые внешние python-библиотеки (зависимости)\n",
    "        pip3 install -r requirements.txt"
   ]
  },
  {
   "cell_type": "markdown",
   "metadata": {},
   "source": [
    "# Вводим команду python3 test.py, будут прогнаны 60 [тестов](https://github.com/mkhamzanov/backendschool/blob/master/test/test.py)"
   ]
  },
  {
   "cell_type": "markdown",
   "metadata": {},
   "source": [
    "#### Каждый тест представляет из себя следующую информацию в названии"
   ]
  },
  {
   "cell_type": "code",
   "execution_count": 6,
   "metadata": {},
   "outputs": [],
   "source": [
    "    def test_method__1__street__valid__false__len_more_than_256(self):\n",
    "        data = self.data.copy()\n",
    "        old = data['citizens'][1]['street']\n",
    "        data['citizens'][1]['street']='q'*258\n",
    "        api_url = self.main_url + '/imports'\n",
    "        r = requests.post(url=api_url, json=data)\n",
    "        self.assertEqual(r.status_code, 400)\n",
    "        data['citizens'][1]['street']=old"
   ]
  },
  {
   "cell_type": "markdown",
   "metadata": {},
   "source": [
    "    test_method__1__street__valid__false__len_more_than_256"
   ]
  },
  {
   "cell_type": "markdown",
   "metadata": {},
   "source": [
    "    1. test_method__1 - какой метод тесировался.\n",
    "    2. street - какой поле.\n",
    "    3. valid - на что тестировалось (валидность поля)\n",
    "    4. false - означает что входные данные были невалидные.\n",
    "    5. len_more_than_256 - причина, длина строки была более 256 символов."
   ]
  },
  {
   "cell_type": "markdown",
   "metadata": {},
   "source": [
    "# [Мой результат прогона 60 тестов](https://github.com/mkhamzanov/backendschool/blob/master/readme/test_results.jpg)"
   ]
  }
 ],
 "metadata": {
  "kernelspec": {
   "display_name": "Python 3",
   "language": "python",
   "name": "python3"
  },
  "language_info": {
   "codemirror_mode": {
    "name": "ipython",
    "version": 3
   },
   "file_extension": ".py",
   "mimetype": "text/x-python",
   "name": "python",
   "nbconvert_exporter": "python",
   "pygments_lexer": "ipython3",
   "version": "3.6.4"
  }
 },
 "nbformat": 4,
 "nbformat_minor": 2
}
