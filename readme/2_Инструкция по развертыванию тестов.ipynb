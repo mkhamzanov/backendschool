{
 "cells": [
  {
   "cell_type": "markdown",
   "metadata": {},
   "source": [
    "# В качестве референса бралась эта статья\n",
    "https://medium.com/ymedialabs-innovation/deploy-flask-app-with-nginx-using-gunicorn-and-supervisor-d7a93aa07c18"
   ]
  },
  {
   "cell_type": "markdown",
   "metadata": {},
   "source": [
    "    \n",
    "    sudo apt install openssh-server\n",
    "    sudo apt-get clean \n",
    "    sudo apt-get install python3\n",
    "    sudo apt-get install python3-pip\n",
    "     \n",
    "    \n",
    "    \n",
    "    sudo apt install python3-venv\n",
    "    sudo apt install git\n",
    "    sudo pip3 install virtualenv\n",
    "    \n",
    "    sudo apt install mysql-server\n",
    "    \n",
    "    sudo mysql_secure_installation\n",
    "    \n",
    "    \n",
    "    \n",
    "    "
   ]
  },
  {
   "cell_type": "markdown",
   "metadata": {},
   "source": [
    "    sudo mysql"
   ]
  },
  {
   "cell_type": "markdown",
   "metadata": {},
   "source": [
    "    SET GLOBAL validate_password_length = 6;\n",
    "    SET GLOBAL validate_password_number_count = 2;"
   ]
  },
  {
   "cell_type": "markdown",
   "metadata": {},
   "source": [
    "    ALTER USER 'root'@'localhost' IDENTIFIED WITH mysql_native_password BY 'Test11';"
   ]
  },
  {
   "cell_type": "markdown",
   "metadata": {},
   "source": [
    "    CREATE DATABASE new_schema;"
   ]
  },
  {
   "cell_type": "markdown",
   "metadata": {},
   "source": [
    "    CREATE TABLE new_schema.data (\n",
    "              import_id INT NOT NULL,\n",
    "              citizen_id INT NOT NULL,\n",
    "              town VARCHAR(512) NOT NULL,\n",
    "              street VARCHAR(512) NOT NULL,\n",
    "              building VARCHAR(512) NOT NULL,\n",
    "              apartment INT NOT NULL,\n",
    "              person_name VARCHAR(512) NOT NULL,\t\n",
    "              birth_date VARCHAR(100) NOT NULL,\n",
    "              gender VARCHAR(100) NOT NULL,\n",
    "              relatives MEDIUMTEXT NOT NULL,\n",
    "              PRIMARY KEY (import_id,citizen_id));\n",
    "              \n",
    "\n",
    "    insert into new_schema.data values (0,0,'LA','Unknown','1b',0,'Default Name','01.01.1900','male','[]');"
   ]
  },
  {
   "cell_type": "markdown",
   "metadata": {},
   "source": [
    "    ALTER DATABASE new_schema CHARACTER SET = utf8mb4 COLLATE = utf8mb4_unicode_ci;\n",
    "    ALTER TABLE new_schema.data CONVERT TO CHARACTER SET utf8mb4 COLLATE utf8mb4_unicode_ci;"
   ]
  },
  {
   "cell_type": "markdown",
   "metadata": {},
   "source": [
    "    sudo apt-get install nginx \n",
    "    sudo apt-get install supervisor"
   ]
  },
  {
   "cell_type": "markdown",
   "metadata": {},
   "source": [
    "# Клонирую репозиторий"
   ]
  },
  {
   "cell_type": "markdown",
   "metadata": {},
   "source": [
    "    git clone https://github.com/mkhamzanov/backendschool.git"
   ]
  },
  {
   "cell_type": "markdown",
   "metadata": {},
   "source": [
    "# .env"
   ]
  },
  {
   "cell_type": "markdown",
   "metadata": {},
   "source": [
    "    virtualenv -p python3 .env\n",
    "    source .env/bin/activate\n",
    "    pip3 install -r requirements.txt\n",
    "    pip3 install Flask"
   ]
  },
  {
   "cell_type": "markdown",
   "metadata": {},
   "source": [
    "# .env для тестинга"
   ]
  },
  {
   "cell_type": "markdown",
   "metadata": {},
   "source": [
    "    virtualenv -p python3 .env\n",
    "    source .env/bin/activate\n",
    "    pip3 install -r requirements.txt\n",
    "    pip3 install Flask\n",
    "    mysql -uroot -p"
   ]
  },
  {
   "cell_type": "markdown",
   "metadata": {},
   "source": [
    "# exit from env and go to app"
   ]
  },
  {
   "cell_type": "markdown",
   "metadata": {},
   "source": [
    "    pip3 install gunicorn\n",
    "    pip3 install supervisor"
   ]
  },
  {
   "cell_type": "markdown",
   "metadata": {},
   "source": [
    "# enter to .env of app"
   ]
  },
  {
   "cell_type": "markdown",
   "metadata": {},
   "source": [
    "    gunicorn3 app:app --bind 0.0.0.1:5000 --threads=4 &\n",
    "    gunicorn3 app:app -b 0.0.0.0:5000 --threads=4 &\n",
    "    curl 127.0.0.1:5000/imports/0/citizens"
   ]
  },
  {
   "cell_type": "markdown",
   "metadata": {},
   "source": [
    "    kill `cat /path/to/your/file/gunicorn.pid`"
   ]
  },
  {
   "cell_type": "markdown",
   "metadata": {},
   "source": [
    "# setup"
   ]
  },
  {
   "cell_type": "markdown",
   "metadata": {},
   "source": [
    "    cd /etc/supervisor/conf.d/"
   ]
  },
  {
   "cell_type": "markdown",
   "metadata": {},
   "source": [
    "    [program:app]\n",
    "    directory=/home/entrant/backendschool/app\n",
    "    command=/home/entrant/backendschool/app/.env/bin/gunicorn app:app -b localhost:5000\n",
    "    autostart=true\n",
    "    autorestart=true\n",
    "    stderr_logfile=/home/entrant/backendschool/app/app.err.log\n",
    "    stdout_logfile=/home/entrant/backendschool/app/app.out.log"
   ]
  },
  {
   "cell_type": "markdown",
   "metadata": {},
   "source": [
    "    sudo supervisorctl reread\n",
    "    sudo service supervisor restart\n",
    "    sudo supervisorctl status"
   ]
  },
  {
   "cell_type": "markdown",
   "metadata": {},
   "source": [
    "    ps aux | grep gunicorn"
   ]
  },
  {
   "cell_type": "markdown",
   "metadata": {},
   "source": [
    "    sudo nano /etc/nginx/conf.d/virtual.conf"
   ]
  },
  {
   "cell_type": "markdown",
   "metadata": {},
   "source": [
    "server {\n",
    "    listen       80;\n",
    "    server_name  your_public_dnsname_here;\n",
    "\n",
    "    location / {\n",
    "        proxy_pass http://0.0.0.0:8080;\n",
    "    }\n",
    "}"
   ]
  },
  {
   "cell_type": "markdown",
   "metadata": {},
   "source": [
    "    sudo nginx -t\n",
    "    sudo service nginx restart"
   ]
  },
  {
   "cell_type": "markdown",
   "metadata": {},
   "source": [
    "    curl 0.0.0.0:8080/imports/0/citizens"
   ]
  },
  {
   "cell_type": "code",
   "execution_count": 17,
   "metadata": {},
   "outputs": [],
   "source": [
    "# gunicorn --workers=5 --threads=2 --worker-class=gthread app:app\n",
    "# pip install gevent\n",
    "# pip install future"
   ]
  }
 ],
 "metadata": {
  "kernelspec": {
   "display_name": "Python 3",
   "language": "python",
   "name": "python3"
  },
  "language_info": {
   "codemirror_mode": {
    "name": "ipython",
    "version": 3
   },
   "file_extension": ".py",
   "mimetype": "text/x-python",
   "name": "python",
   "nbconvert_exporter": "python",
   "pygments_lexer": "ipython3",
   "version": "3.6.4"
  }
 },
 "nbformat": 4,
 "nbformat_minor": 2
}
