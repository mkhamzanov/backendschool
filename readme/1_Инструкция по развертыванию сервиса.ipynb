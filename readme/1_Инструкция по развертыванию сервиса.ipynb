{
 "cells": [
  {
   "cell_type": "markdown",
   "metadata": {},
   "source": [
    "# Инструкция по развертыванию сервиса на любом компьютере\n",
    "    Требуется ОС linux"
   ]
  },
  {
   "cell_type": "markdown",
   "metadata": {},
   "source": [
    "### Для начала установим python3, pip3, virtualenv, git"
   ]
  },
  {
   "cell_type": "markdown",
   "metadata": {},
   "source": [
    "    sudo apt install openssh-server\n",
    "    sudo apt-get clean \n",
    "    sudo apt-get install python3\n",
    "    sudo apt-get install python3-pip\n",
    "    sudo apt install python3-venv\n",
    "    sudo apt install git\n",
    "    sudo pip3 install virtualenv"
   ]
  },
  {
   "cell_type": "markdown",
   "metadata": {},
   "source": [
    "### Чтобы хранить данные, будем использовать [mysql](https://www.mysql.com/)"
   ]
  },
  {
   "cell_type": "markdown",
   "metadata": {},
   "source": [
    "    sudo apt install mysql-server\n",
    "    sudo mysql_secure_installation"
   ]
  },
  {
   "cell_type": "markdown",
   "metadata": {},
   "source": [
    "### При установке, потребуется создать пароль от учетной записи в БД, нажимать \"N\"\n",
    "    Далее заходим в mysql\n",
    "    sudo mysql"
   ]
  },
  {
   "cell_type": "markdown",
   "metadata": {},
   "source": [
    "### Прописываем данные параметры, чтобы можно было создать простой пароль \"Test11\""
   ]
  },
  {
   "cell_type": "markdown",
   "metadata": {},
   "source": [
    "    SET GLOBAL validate_password_length = 6;\n",
    "    SET GLOBAL validate_password_number_count = 2;"
   ]
  },
  {
   "cell_type": "markdown",
   "metadata": {},
   "source": [
    "### Создаем пароль"
   ]
  },
  {
   "cell_type": "markdown",
   "metadata": {},
   "source": [
    "    ALTER USER 'root'@'localhost' IDENTIFIED WITH mysql_native_password BY 'Test11';"
   ]
  },
  {
   "cell_type": "markdown",
   "metadata": {},
   "source": [
    "### Создаем схему"
   ]
  },
  {
   "cell_type": "markdown",
   "metadata": {},
   "source": [
    "    CREATE DATABASE new_schema;"
   ]
  },
  {
   "cell_type": "markdown",
   "metadata": {},
   "source": [
    "### В задании есть ограничения на размер полей\n",
    "    Но так как это ограничение касается только входящих данных, мы вправе хранить эти данные так, как захотим\n",
    "    relatives - храним в MEDIUMTEXT, а это 16 МБ целых\n",
    "    town,street,building,person_name,birth_date, gender - VARCHAR\n",
    "    primary key - пара из двух полей, так как из задания следует, что для каждой выгрузки\n",
    "    import_id свой.\n",
    "    \n",
    "        CREATE TABLE new_schema.data (\n",
    "              import_id INT NOT NULL,\n",
    "              citizen_id INT NOT NULL,\n",
    "              town VARCHAR(512) NOT NULL,\n",
    "              street VARCHAR(512) NOT NULL,\n",
    "              building VARCHAR(512) NOT NULL,\n",
    "              apartment INT NOT NULL,\n",
    "              person_name VARCHAR(512) NOT NULL,\t\n",
    "              birth_date VARCHAR(100) NOT NULL,\n",
    "              gender VARCHAR(100) NOT NULL,\n",
    "              relatives MEDIUMTEXT NOT NULL,\n",
    "              PRIMARY KEY (import_id,citizen_id));"
   ]
  },
  {
   "cell_type": "markdown",
   "metadata": {},
   "source": [
    "### Далее создадим дефолтную строку в нашей таблице.\n",
    "    В процессе решения задачи, каждый раз я должен генерить уникальный import_id.\n",
    "    Поэтому создал дефолтный import_id из одной строки, далее чтобы сгенерить новый \n",
    "    import_id уже для настоящих выгрузок, я просто прибавляю к наибольшему import_id из базы 1,\n",
    "    тем самым получая новый import_id\n",
    "    \n",
    "    insert into new_schema.data values (0,0,'LA','Unknown','1b',0,'Default Name','01.01.1900','male','[]');"
   ]
  },
  {
   "cell_type": "markdown",
   "metadata": {},
   "source": [
    "### Чтобы кириллица читалась, пропишем следующие запросы."
   ]
  },
  {
   "cell_type": "markdown",
   "metadata": {},
   "source": [
    "    ALTER DATABASE new_schema CHARACTER SET = utf8mb4 COLLATE = utf8mb4_unicode_ci;\n",
    "    ALTER TABLE new_schema.data CONVERT TO CHARACTER SET utf8mb4 COLLATE utf8mb4_unicode_ci;"
   ]
  },
  {
   "cell_type": "markdown",
   "metadata": {},
   "source": [
    "# Далее в качестве референса бралась данная [статья](https://medium.com/ymedialabs-innovation/deploy-flask-app-with-nginx-using-gunicorn-and-supervisor-d7a93aa07c18) на medium\n"
   ]
  },
  {
   "cell_type": "markdown",
   "metadata": {},
   "source": [
    "### Установим nginx, supervisor"
   ]
  },
  {
   "cell_type": "markdown",
   "metadata": {},
   "source": [
    "    sudo apt-get install nginx \n",
    "    sudo apt-get install supervisor"
   ]
  },
  {
   "cell_type": "markdown",
   "metadata": {},
   "source": [
    "### Клонирую свой репозиторий с кодом"
   ]
  },
  {
   "cell_type": "markdown",
   "metadata": {},
   "source": [
    "    git clone https://github.com/mkhamzanov/backendschool.git"
   ]
  },
  {
   "cell_type": "markdown",
   "metadata": {},
   "source": [
    "### Проходим в папку app.py\n",
    "    1. Создаем virtualenv\n",
    "        virtualenv -p python3 .env\n",
    "    2. Активируем\n",
    "        source .env/bin/activate\n",
    "    3. Устанавливаем все необходимые внешние python-библиотеки (зависимости)\n",
    "        pip3 install -r requirements.txt\n",
    "    4. Устанавливаем Flask (скорее всего он уже установлен)\n",
    "        pip3 install Flask"
   ]
  },
  {
   "cell_type": "markdown",
   "metadata": {},
   "source": [
    "### Устанавливаем gunicorn, supervisor"
   ]
  },
  {
   "cell_type": "markdown",
   "metadata": {},
   "source": [
    "    pip3 install gunicorn\n",
    "    pip3 install supervisor"
   ]
  },
  {
   "cell_type": "markdown",
   "metadata": {},
   "source": [
    "###     Запустим\n",
    "\n",
    "    1. threads - отвечает за мультипоточность\n",
    "        gunicorn3 app:app --bind 127.0.0.1:5000 --threads=4 &\n",
    "    2. Проверим, запустим команду ниже, на экране должен появиться json c дефолтной строчкой из БД\n",
    "        curl 127.0.0.1:5000/imports/0/citizens"
   ]
  },
  {
   "cell_type": "markdown",
   "metadata": {},
   "source": [
    "### Далее проходим в данную директорию"
   ]
  },
  {
   "cell_type": "markdown",
   "metadata": {},
   "source": [
    "    cd /etc/supervisor/conf.d/"
   ]
  },
  {
   "cell_type": "markdown",
   "metadata": {},
   "source": [
    "### Создаем файл app.conf с данным содержанием, заметим, что autostart=true - тот самый параметр, который будет запускать наш сервис автоматически.\n"
   ]
  },
  {
   "cell_type": "markdown",
   "metadata": {},
   "source": [
    "    [program:app]\n",
    "    directory=/home/entrant/backendschool/app\n",
    "    command=/home/entrant/backendschool/app/.env/bin/gunicorn app:app -b localhost:5000\n",
    "    autostart=true\n",
    "    autorestart=true\n",
    "    stderr_logfile=/home/entrant/backendschool/app/app.err.log\n",
    "    stdout_logfile=/home/entrant/backendschool/app/app.out.log"
   ]
  },
  {
   "cell_type": "markdown",
   "metadata": {},
   "source": [
    "### Запускаем данные команды"
   ]
  },
  {
   "cell_type": "markdown",
   "metadata": {},
   "source": [
    "    sudo supervisorctl reread\n",
    "    sudo service supervisor restart\n",
    "    sudo supervisorctl status"
   ]
  },
  {
   "cell_type": "markdown",
   "metadata": {},
   "source": [
    "### Далее открываем данный файл"
   ]
  },
  {
   "cell_type": "markdown",
   "metadata": {},
   "source": [
    "    sudo nano /etc/nginx/conf.d/virtual.conf"
   ]
  },
  {
   "cell_type": "markdown",
   "metadata": {},
   "source": [
    "### Добавляем следующее proxy_pass http://0.0.0.0:8080 - новый адрес"
   ]
  },
  {
   "cell_type": "markdown",
   "metadata": {},
   "source": [
    "    server {\n",
    "        listen       80;\n",
    "        server_name  your_public_dnsname_here;\n",
    "    \n",
    "        location / {\n",
    "            proxy_pass http://0.0.0.0:8080;\n",
    "        }\n",
    "    }"
   ]
  },
  {
   "cell_type": "markdown",
   "metadata": {},
   "source": [
    "### Запускаем команды"
   ]
  },
  {
   "cell_type": "markdown",
   "metadata": {},
   "source": [
    "    sudo nginx -t\n",
    "    sudo service nginx restart"
   ]
  },
  {
   "cell_type": "markdown",
   "metadata": {},
   "source": [
    "### Проверка, данный запрос должен выдать json c дефолтной строчкой из БД"
   ]
  },
  {
   "cell_type": "markdown",
   "metadata": {},
   "source": [
    "    curl 0.0.0.0:8080/imports/0/citizens"
   ]
  }
 ],
 "metadata": {
  "kernelspec": {
   "display_name": "Python 3",
   "language": "python",
   "name": "python3"
  },
  "language_info": {
   "codemirror_mode": {
    "name": "ipython",
    "version": 3
   },
   "file_extension": ".py",
   "mimetype": "text/x-python",
   "name": "python",
   "nbconvert_exporter": "python",
   "pygments_lexer": "ipython3",
   "version": "3.6.4"
  }
 },
 "nbformat": 4,
 "nbformat_minor": 2
}
